{
  "nbformat": 4,
  "nbformat_minor": 0,
  "metadata": {
    "colab": {
      "provenance": [],
      "authorship_tag": "ABX9TyMjwPTRoeGoZJQKbmjB6Uiw"
    },
    "kernelspec": {
      "name": "python3",
      "display_name": "Python 3"
    },
    "language_info": {
      "name": "python"
    }
  },
  "cells": [
    {
      "cell_type": "code",
      "execution_count": 3,
      "metadata": {
        "id": "eYJ44dp7_BHC"
      },
      "outputs": [],
      "source": [
        "from keras.models import Sequential"
      ]
    },
    {
      "cell_type": "code",
      "source": [
        "#Creating a Model\n",
        "model= Sequential()"
      ],
      "metadata": {
        "id": "Wh7oDoMd_MRF"
      },
      "execution_count": 4,
      "outputs": []
    }
  ]
}