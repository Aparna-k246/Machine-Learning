{
  "nbformat": 4,
  "nbformat_minor": 0,
  "metadata": {
    "colab": {
      "provenance": [],
      "authorship_tag": "ABX9TyOzjOqdXwnKp7bMGonvP2Ix"
    },
    "kernelspec": {
      "name": "python3",
      "display_name": "Python 3"
    },
    "language_info": {
      "name": "python"
    }
  },
  "cells": [
    {
      "cell_type": "code",
      "execution_count": 1,
      "metadata": {
        "id": "d78VQKbCSHTz"
      },
      "outputs": [],
      "source": [
        "import tensorflow as tf"
      ]
    },
    {
      "cell_type": "code",
      "source": [
        "from numpy import int32\n",
        "a = tf.constant(5)\n",
        "print(a)\n",
        "\n"
      ],
      "metadata": {
        "colab": {
          "base_uri": "https://localhost:8080/"
        },
        "id": "mNZc6aiLSctf",
        "outputId": "12dadd43-2b9d-407e-f198-6f402e8be432"
      },
      "execution_count": 2,
      "outputs": [
        {
          "output_type": "stream",
          "name": "stdout",
          "text": [
            "tf.Tensor(5, shape=(), dtype=int32)\n"
          ]
        }
      ]
    },
    {
      "cell_type": "code",
      "source": [
        "b= tf.constant(10)\n",
        "c = tf.add(a, b)\n",
        "print(c)"
      ],
      "metadata": {
        "colab": {
          "base_uri": "https://localhost:8080/"
        },
        "id": "mXF3XKVJSyIn",
        "outputId": "22e61d9b-305c-4d8b-8e40-86d177036163"
      },
      "execution_count": 3,
      "outputs": [
        {
          "output_type": "stream",
          "name": "stdout",
          "text": [
            "tf.Tensor(15, shape=(), dtype=int32)\n"
          ]
        }
      ]
    },
    {
      "cell_type": "code",
      "source": [
        "var1= tf.Variable(20)\n",
        "print(var1)"
      ],
      "metadata": {
        "colab": {
          "base_uri": "https://localhost:8080/"
        },
        "id": "PyrTIutUS5G5",
        "outputId": "64bfd4e6-6d2a-4441-e8cd-764e37045a37"
      },
      "execution_count": 4,
      "outputs": [
        {
          "output_type": "stream",
          "name": "stdout",
          "text": [
            "<tf.Variable 'Variable:0' shape=() dtype=int32, numpy=20>\n"
          ]
        }
      ]
    },
    {
      "cell_type": "code",
      "source": [
        "var2= tf.Variable([[1,2], [3,4]])\n",
        "var3= tf.Variable([[5,6], [7,8]])\n",
        "print(tf.matmul(var2, var3))"
      ],
      "metadata": {
        "colab": {
          "base_uri": "https://localhost:8080/"
        },
        "id": "mY4SAQ2-THB5",
        "outputId": "c0f68695-98ed-40ed-e44f-f1c289b4aa6b"
      },
      "execution_count": 5,
      "outputs": [
        {
          "output_type": "stream",
          "name": "stdout",
          "text": [
            "tf.Tensor(\n",
            "[[19 22]\n",
            " [43 50]], shape=(2, 2), dtype=int32)\n"
          ]
        }
      ]
    },
    {
      "cell_type": "code",
      "source": [
        "(x_train, y_train), (x_test, y_test) = tf.keras.datasets.mnist.load_data()"
      ],
      "metadata": {
        "id": "TpjBhNS5WCRs",
        "colab": {
          "base_uri": "https://localhost:8080/"
        },
        "outputId": "42ed1f75-f98d-4d5e-e9ef-a90070bca336"
      },
      "execution_count": 6,
      "outputs": [
        {
          "output_type": "stream",
          "name": "stdout",
          "text": [
            "Downloading data from https://storage.googleapis.com/tensorflow/tf-keras-datasets/mnist.npz\n",
            "11490434/11490434 [==============================] - 0s 0us/step\n"
          ]
        }
      ]
    },
    {
      "cell_type": "code",
      "source": [
        "print(x_train.shape, y_train.shape)\n",
        "print(x_test.shape, y_test.shape)"
      ],
      "metadata": {
        "colab": {
          "base_uri": "https://localhost:8080/"
        },
        "id": "I0KivcqeWRNC",
        "outputId": "cc212912-78ff-411e-dc87-2d371fbb391d"
      },
      "execution_count": 7,
      "outputs": [
        {
          "output_type": "stream",
          "name": "stdout",
          "text": [
            "(60000, 28, 28) (60000,)\n",
            "(10000, 28, 28) (10000,)\n"
          ]
        }
      ]
    },
    {
      "cell_type": "code",
      "source": [
        "import matplotlib.pyplot as plt\n",
        "plt.imshow(x_train[0])\n",
        "plt.show()\n",
        "print(y_train[0])"
      ],
      "metadata": {
        "colab": {
          "base_uri": "https://localhost:8080/",
          "height": 447
        },
        "id": "obvIcroKWe5f",
        "outputId": "acbf7a80-662f-49cb-c3e0-6f999a7b49a8"
      },
      "execution_count": 8,
      "outputs": [
        {
          "output_type": "display_data",
          "data": {
            "text/plain": [
              "<Figure size 640x480 with 1 Axes>"
            ],
            "image/png": "[encoded data removed]"
          },
          "metadata": {}
        },
        {
          "output_type": "stream",
          "name": "stdout",
          "text": [
            "5\n"
          ]
        }
      ]
    },
    {
      "cell_type": "code",
      "source": [
        "x_train = x_train.reshape(x_train.shape[0], -1)/255.0\n",
        "x_test = x_test.reshape(x_test.shape[0], -1)/255.0\n",
        "y_train = tf.keras.utils.to_categorical(y_train)\n",
        "y_test = tf.keras.utils.to_categorical(y_test)"
      ],
      "metadata": {
        "id": "BcdzK9x3XABX"
      },
      "execution_count": 9,
      "outputs": []
    },
    {
      "cell_type": "code",
      "source": [
        "print(x_train.shape, y_train.shape)\n",
        "print(x_test.shape, y_test.shape)"
      ],
      "metadata": {
        "colab": {
          "base_uri": "https://localhost:8080/"
        },
        "id": "ibsZ048hX66c",
        "outputId": "12ebdda5-048a-4059-ecad-302c2c250b19"
      },
      "execution_count": 10,
      "outputs": [
        {
          "output_type": "stream",
          "name": "stdout",
          "text": [
            "(60000, 784) (60000, 10)\n",
            "(10000, 784) (10000, 10)\n"
          ]
        }
      ]
    },
    {
      "cell_type": "code",
      "source": [
        "from tensorflow.keras import Sequential\n",
        "from tensorflow.keras.layers import Dense"
      ],
      "metadata": {
        "id": "7k4YFWssb0pA"
      },
      "execution_count": 11,
      "outputs": []
    },
    {
      "cell_type": "code",
      "source": [
        "model = Sequential()\n",
        "model.add(Dense(256, activation= 'relu',input_shape= (784,)))\n",
        "model.add(Dense(256, activation= 'relu'))\n",
        "model.add(Dense(10, activation= 'softmax'))"
      ],
      "metadata": {
        "id": "IJ-ZJG2_cBtT"
      },
      "execution_count": 12,
      "outputs": []
    },
    {
      "cell_type": "code",
      "source": [
        "model.compile(optimizer='adam', loss= 'categorical_crossentropy', metrics=['accuracy'])"
      ],
      "metadata": {
        "id": "8IpICdeTdRpJ"
      },
      "execution_count": 13,
      "outputs": []
    },
    {
      "cell_type": "code",
      "source": [
        "model.fit(x_train, y_train, epochs= 10, batch_size= 1024)"
      ],
      "metadata": {
        "colab": {
          "base_uri": "https://localhost:8080/"
        },
        "id": "TzR32WModoXX",
        "outputId": "a124e100-1542-4fdb-f6aa-149eebecb984"
      },
      "execution_count": 14,
      "outputs": [
        {
          "output_type": "stream",
          "name": "stdout",
          "text": [
            "Epoch 1/10\n",
            "59/59 [==============================] - 3s 32ms/step - loss: 0.5841 - accuracy: 0.8451\n",
            "Epoch 2/10\n",
            "59/59 [==============================] - 2s 30ms/step - loss: 0.2021 - accuracy: 0.9420\n",
            "Epoch 3/10\n",
            "59/59 [==============================] - 2s 34ms/step - loss: 0.1468 - accuracy: 0.9578\n",
            "Epoch 4/10\n",
            "59/59 [==============================] - 5s 79ms/step - loss: 0.1149 - accuracy: 0.9667\n",
            "Epoch 5/10\n",
            "59/59 [==============================] - 3s 59ms/step - loss: 0.0906 - accuracy: 0.9732\n",
            "Epoch 6/10\n",
            "59/59 [==============================] - 4s 63ms/step - loss: 0.0747 - accuracy: 0.9779\n",
            "Epoch 7/10\n",
            "59/59 [==============================] - 4s 66ms/step - loss: 0.0615 - accuracy: 0.9820\n",
            "Epoch 8/10\n",
            "59/59 [==============================] - 4s 67ms/step - loss: 0.0520 - accuracy: 0.9846\n",
            "Epoch 9/10\n",
            "59/59 [==============================] - 4s 60ms/step - loss: 0.0435 - accuracy: 0.9871\n",
            "Epoch 10/10\n",
            "59/59 [==============================] - 3s 54ms/step - loss: 0.0376 - accuracy: 0.9896\n"
          ]
        },
        {
          "output_type": "execute_result",
          "data": {
            "text/plain": [
              "<keras.callbacks.History at 0x7f17aae12950>"
            ]
          },
          "metadata": {},
          "execution_count": 14
        }
      ]
    },
    {
      "cell_type": "code",
      "source": [
        "model.evaluate(x_test, y_test)"
      ],
      "metadata": {
        "colab": {
          "base_uri": "https://localhost:8080/"
        },
        "id": "lF_6G0GYd_-V",
        "outputId": "c14b9b7a-8aca-4b82-baf5-4dff7e52550d"
      },
      "execution_count": 15,
      "outputs": [
        {
          "output_type": "stream",
          "name": "stdout",
          "text": [
            "313/313 [==============================] - 1s 3ms/step - loss: 0.0759 - accuracy: 0.9756\n"
          ]
        },
        {
          "output_type": "execute_result",
          "data": {
            "text/plain": [
              "[0.07592124491930008, 0.975600004196167]"
            ]
          },
          "metadata": {},
          "execution_count": 15
        }
      ]
    },
    {
      "cell_type": "code",
      "source": [
        "model.summary()"
      ],
      "metadata": {
        "colab": {
          "base_uri": "https://localhost:8080/"
        },
        "id": "5h7n6nPDahY0",
        "outputId": "24cb9a59-4f01-4a06-ff99-e0e47d144f99"
      },
      "execution_count": 16,
      "outputs": [
        {
          "output_type": "stream",
          "name": "stdout",
          "text": [
            "Model: \"sequential\"\n",
            "_________________________________________________________________\n",
            " Layer (type)                Output Shape              Param #   \n",
            "=================================================================\n",
            " dense (Dense)               (None, 256)               200960    \n",
            "                                                                 \n",
            " dense_1 (Dense)             (None, 256)               65792     \n",
            "                                                                 \n",
            " dense_2 (Dense)             (None, 10)                2570      \n",
            "                                                                 \n",
            "=================================================================\n",
            "Total params: 269,322\n",
            "Trainable params: 269,322\n",
            "Non-trainable params: 0\n",
            "_________________________________________________________________\n"
          ]
        }
      ]
    },
    {
      "cell_type": "code",
      "source": [
        "from tensorflow.keras import Model\n",
        "from tensorflow.keras.layers import Concatenate, Input"
      ],
      "metadata": {
        "id": "USKqbUFia__C"
      },
      "execution_count": 20,
      "outputs": []
    },
    {
      "cell_type": "code",
      "source": [
        "input= Input(shape= [784, ])\n",
        "hidden_1= Dense(256, activation= 'relu')(input)\n",
        "hidden_2= Dense(256, activation='relu')(hidden_1)\n",
        "hidden_3= Dense(256, activation= 'relu')(input)\n",
        "concat= Concatenate()([hidden_2, hidden_3])\n",
        "output= Dense(10, activation='softmax')(concat)\n",
        "model= Model(inputs= [input], outputs= [output])\n",
        "model.summary()"
      ],
      "metadata": {
        "colab": {
          "base_uri": "https://localhost:8080/"
        },
        "id": "NnCSxoqdboTC",
        "outputId": "e2ba2d46-1778-43f1-8a92-ef6b2ec5518b"
      },
      "execution_count": 21,
      "outputs": [
        {
          "output_type": "stream",
          "name": "stdout",
          "text": [
            "Model: \"model\"\n",
            "__________________________________________________________________________________________________\n",
            " Layer (type)                   Output Shape         Param #     Connected to                     \n",
            "==================================================================================================\n",
            " input_2 (InputLayer)           [(None, 784)]        0           []                               \n",
            "                                                                                                  \n",
            " dense_7 (Dense)                (None, 256)          200960      ['input_2[0][0]']                \n",
            "                                                                                                  \n",
            " dense_8 (Dense)                (None, 256)          65792       ['dense_7[0][0]']                \n",
            "                                                                                                  \n",
            " dense_9 (Dense)                (None, 256)          200960      ['input_2[0][0]']                \n",
            "                                                                                                  \n",
            " concatenate_1 (Concatenate)    (None, 512)          0           ['dense_8[0][0]',                \n",
            "                                                                  'dense_9[0][0]']                \n",
            "                                                                                                  \n",
            " dense_10 (Dense)               (None, 10)           5130        ['concatenate_1[0][0]']          \n",
            "                                                                                                  \n",
            "==================================================================================================\n",
            "Total params: 472,842\n",
            "Trainable params: 472,842\n",
            "Non-trainable params: 0\n",
            "__________________________________________________________________________________________________\n"
          ]
        }
      ]
    },
    {
      "cell_type": "code",
      "source": [
        "model.compile(optimizer='adam', loss= 'categorical_crossentropy', metrics=['accuracy'])\n",
        "model.fit(x_train, y_train, epochs=5, batch_size= 512)"
      ],
      "metadata": {
        "colab": {
          "base_uri": "https://localhost:8080/"
        },
        "id": "zde1NOekdtAf",
        "outputId": "ff777e18-a52f-4e44-fe37-c9b031f74823"
      },
      "execution_count": 23,
      "outputs": [
        {
          "output_type": "stream",
          "name": "stdout",
          "text": [
            "Epoch 1/5\n",
            "118/118 [==============================] - 5s 35ms/step - loss: 0.3845 - accuracy: 0.8941\n",
            "Epoch 2/5\n",
            "118/118 [==============================] - 3s 26ms/step - loss: 0.1420 - accuracy: 0.9587\n",
            "Epoch 3/5\n",
            "118/118 [==============================] - 3s 26ms/step - loss: 0.0930 - accuracy: 0.9726\n",
            "Epoch 4/5\n",
            "118/118 [==============================] - 4s 35ms/step - loss: 0.0684 - accuracy: 0.9798\n",
            "Epoch 5/5\n",
            "118/118 [==============================] - 4s 30ms/step - loss: 0.0510 - accuracy: 0.9853\n"
          ]
        },
        {
          "output_type": "execute_result",
          "data": {
            "text/plain": [
              "<keras.callbacks.History at 0x7f1789929150>"
            ]
          },
          "metadata": {},
          "execution_count": 23
        }
      ]
    },
    {
      "cell_type": "code",
      "source": [
        "model.evaluate(x_test, y_test)"
      ],
      "metadata": {
        "colab": {
          "base_uri": "https://localhost:8080/"
        },
        "id": "sZUxo8EAepb-",
        "outputId": "28144a2c-156b-457b-9623-09057cf876d5"
      },
      "execution_count": 24,
      "outputs": [
        {
          "output_type": "stream",
          "name": "stdout",
          "text": [
            "313/313 [==============================] - 1s 3ms/step - loss: 0.0705 - accuracy: 0.9776\n"
          ]
        },
        {
          "output_type": "execute_result",
          "data": {
            "text/plain": [
              "[0.07051980495452881, 0.9775999784469604]"
            ]
          },
          "metadata": {},
          "execution_count": 24
        }
      ]
    },
    {
      "cell_type": "code",
      "source": [
        "from tensorflow.keras import layers"
      ],
      "metadata": {
        "id": "UEbnX1bZewaJ"
      },
      "execution_count": 25,
      "outputs": []
    },
    {
      "cell_type": "code",
      "source": [
        "class MyLayer(layers.Layer):\n",
        "  def __init__(self, units, input_dim, activation):\n",
        "    super(MyLayer, self).__init__()\n",
        "    w_init= tf.random_normal_initializer()\n",
        "    self.w= tf.Variable(initial_value= w_init(shape= (input_dim, units), dtype= 'float32'), trainable= True)\n",
        "    b_init= tf.random_normal_initializer()\n",
        "    self.b= tf.Variable(initial_value= b_init(shape= (units,), dtype= 'float32'), trainable= True)\n",
        "    self.activation = activation\n",
        "  def call(self, inputs):\n",
        "    linear_op= tf.add(tf.matmul(inputs, self.w), b)\n",
        "    if self.activation == 'relu':\n",
        "      return tf.nn.relu(linear_op)\n",
        "    elif self.activation == 'softmax':\n",
        "      return tf.nn.softmax(linear_op)\n"
      ],
      "metadata": {
        "id": "WbDghposg1u8"
      },
      "execution_count": 26,
      "outputs": []
    }
  ]
}