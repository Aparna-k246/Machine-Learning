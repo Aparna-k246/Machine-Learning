{
  "nbformat": 4,
  "nbformat_minor": 0,
  "metadata": {
    "colab": {
      "provenance": [],
      "authorship_tag": "ABX9TyNpkHWd7zZFYA9D5WMUfVtX"
    },
    "kernelspec": {
      "name": "python3",
      "display_name": "Python 3"
    },
    "language_info": {
      "name": "python"
    }
  },
  "cells": [
    {
      "cell_type": "code",
      "execution_count": 1,
      "metadata": {
        "id": "q4OQIX6BqEzX"
      },
      "outputs": [],
      "source": [
        "import numpy as np"
      ]
    },
    {
      "cell_type": "code",
      "source": [
        "X= np.array([[0,0], [0,1], [1,0], [1,1]])\n",
        "Y = np.array([[0,0,0,1]]).T\n",
        "X.shape, Y.shape"
      ],
      "metadata": {
        "colab": {
          "base_uri": "https://localhost:8080/"
        },
        "id": "B_RO8t-XqHoK",
        "outputId": "8573ba45-370c-4fe4-8509-b334bf5c205d"
      },
      "execution_count": 2,
      "outputs": [
        {
          "output_type": "execute_result",
          "data": {
            "text/plain": [
              "((4, 2), (4, 1))"
            ]
          },
          "metadata": {},
          "execution_count": 2
        }
      ]
    },
    {
      "cell_type": "code",
      "source": [
        "def sig(z):\n",
        "  return 1/(1+ np.exp(-z))"
      ],
      "metadata": {
        "id": "j6H9jSSzqqmb"
      },
      "execution_count": 3,
      "outputs": []
    },
    {
      "cell_type": "code",
      "source": [
        "def derivativeSig(z):\n",
        "  return sig(z)*(1 - sig(z))"
      ],
      "metadata": {
        "id": "3j7tYPJ1yEvx"
      },
      "execution_count": 4,
      "outputs": []
    },
    {
      "cell_type": "code",
      "source": [
        "weights = 2* np.random.random((2, 1)) - 1\n",
        "bias= 2 * np.random.random(1) - 1\n",
        "lr= 0.1\n",
        "weights, bias"
      ],
      "metadata": {
        "colab": {
          "base_uri": "https://localhost:8080/"
        },
        "id": "gR5qREK8q_7h",
        "outputId": "86dc1206-0052-4e97-ccce-5bfcc60bdc38"
      },
      "execution_count": 19,
      "outputs": [
        {
          "output_type": "execute_result",
          "data": {
            "text/plain": [
              "(array([[ 0.61978424],\n",
              "        [-0.08096522]]),\n",
              " array([-0.46454729]))"
            ]
          },
          "metadata": {},
          "execution_count": 19
        }
      ]
    },
    {
      "cell_type": "code",
      "source": [
        "for iter in range(10000):\n",
        "  output0 = X\n",
        "  output = sig(np.dot(output0, weights) + bias)\n",
        "  first_term= output - Y\n",
        "  input_for_last_layer= np.dot(output0, weights) + bias\n",
        "  second_term= derivativeSig(input_for_last_layer)\n",
        "  first_two = first_term * second_term\n",
        "  first_two.shape\n",
        "  changes= np.array([[0.0], [0.0]])\n",
        "  for i in range(2):\n",
        "    for j in range(4):\n",
        "      changes[i][0] += first_two[j][0] * output0[j][i]\n",
        "  weights= weights - lr*changes\n",
        "  bias_change= 0.0\n",
        "  for j in range(4):\n",
        "    bias_change += first_two[j][0] * 1\n",
        "  bias= bias - lr * bias_change \n",
        "output= sig(np.dot(X, weights) + bias) \n",
        "weights, bias, output"
      ],
      "metadata": {
        "colab": {
          "base_uri": "https://localhost:8080/"
        },
        "id": "k54XlkzUrMui",
        "outputId": "ad0665f3-b040-4b1e-c42e-b7aef54418ac"
      },
      "execution_count": 17,
      "outputs": [
        {
          "output_type": "execute_result",
          "data": {
            "text/plain": [
              "(array([[5.59483923],\n",
              "        [5.59483922]]),\n",
              " array([-8.48445374]),\n",
              " array([[2.06613559e-04],\n",
              "        [5.26693487e-02],\n",
              "        [5.26693490e-02],\n",
              "        [9.37334239e-01]]))"
            ]
          },
          "metadata": {},
          "execution_count": 17
        }
      ]
    },
    {
      "cell_type": "code",
      "source": [
        "for iter in range(10000):\n",
        "  output0 = X\n",
        "  output = sig(np.dot(output0, weights) + bias)\n",
        "  first_term= output - Y\n",
        "  input_for_last_layer= np.dot(output0, weights) + bias\n",
        "  second_term= derivativeSig(input_for_last_layer)\n",
        "  first_two = first_term * second_term\n",
        "  first_two.shape\n",
        "  changes= np.dot(output0.T, first_two)\n",
        "  \n",
        "  weights= weights - lr*changes\n",
        "  bias_change= np.sum(first_two)\n",
        "  bias= bias - lr * bias_change \n",
        "output= sig(np.dot(X, weights) + bias) \n",
        "weights, bias, output"
      ],
      "metadata": {
        "colab": {
          "base_uri": "https://localhost:8080/"
        },
        "id": "TF1Vw4bRErIa",
        "outputId": "5e0f19f6-465d-4c7b-97ad-614767ee0ecb"
      },
      "execution_count": 20,
      "outputs": [
        {
          "output_type": "execute_result",
          "data": {
            "text/plain": [
              "(array([[5.48098768],\n",
              "        [5.48098767]]),\n",
              " array([-8.31416669]),\n",
              " array([[2.44960965e-04],\n",
              "        [5.55573562e-02],\n",
              "        [5.55573571e-02],\n",
              "        [9.33875800e-01]]))"
            ]
          },
          "metadata": {},
          "execution_count": 20
        }
      ]
    },
    {
      "cell_type": "code",
      "source": [],
      "metadata": {
        "id": "iGbuMFWTtPFp"
      },
      "execution_count": null,
      "outputs": []
    }
  ]
}