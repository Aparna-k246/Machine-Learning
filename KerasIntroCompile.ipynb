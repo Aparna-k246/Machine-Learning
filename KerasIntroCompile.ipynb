{
  "nbformat": 4,
  "nbformat_minor": 0,
  "metadata": {
    "colab": {
      "provenance": [],
      "authorship_tag": "ABX9TyNkTZRzAK433tzLzztediYX"
    },
    "kernelspec": {
      "name": "python3",
      "display_name": "Python 3"
    },
    "language_info": {
      "name": "python"
    }
  },
  "cells": [
    {
      "cell_type": "code",
      "execution_count": 5,
      "metadata": {
        "id": "eYJ44dp7_BHC"
      },
      "outputs": [],
      "source": [
        "from keras.models import Sequential\n",
        "from keras.layers import Dense"
      ]
    },
    {
      "cell_type": "code",
      "source": [
        "#Creating a Model\n",
        "model= Sequential()"
      ],
      "metadata": {
        "id": "Wh7oDoMd_MRF"
      },
      "execution_count": 6,
      "outputs": []
    },
    {
      "cell_type": "code",
      "source": [
        "layer1= Dense(units=32, activation= 'relu',input_dim= 30)\n",
        "model.add(layer1)\n",
        "model.add(Dense(units= 16, activation= 'relu'))\n",
        "model.add(Dense(units= 1, activation= 'sigmoid'))"
      ],
      "metadata": {
        "id": "O5Pg-DL0An7H"
      },
      "execution_count": 7,
      "outputs": []
    },
    {
      "cell_type": "code",
      "source": [
        "model.compile(optimizer='adam', loss= 'binary_crossentropy', metrics=['accuracy'])"
      ],
      "metadata": {
        "id": "nOrEs9nHDPDR"
      },
      "execution_count": 8,
      "outputs": []
    }
  ]
}