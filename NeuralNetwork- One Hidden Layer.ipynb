{
  "nbformat": 4,
  "nbformat_minor": 0,
  "metadata": {
    "colab": {
      "provenance": [],
      "authorship_tag": "ABX9TyN0Lt2efw5oOMblrsVjb/wj"
    },
    "kernelspec": {
      "name": "python3",
      "display_name": "Python 3"
    },
    "language_info": {
      "name": "python"
    }
  },
  "cells": [
    {
      "cell_type": "code",
      "execution_count": 9,
      "metadata": {
        "id": "q4OQIX6BqEzX"
      },
      "outputs": [],
      "source": [
        "import numpy as np"
      ]
    },
    {
      "cell_type": "code",
      "source": [
        "X= np.array([[0,0], [0,1], [1,0], [1,1]])\n",
        "Y = np.array([[0,1,1,0]]).T\n",
        "X.shape, Y.shape"
      ],
      "metadata": {
        "colab": {
          "base_uri": "https://localhost:8080/"
        },
        "id": "B_RO8t-XqHoK",
        "outputId": "0c4c0c0d-1ae3-4ce4-af23-994b50bf88b2"
      },
      "execution_count": 10,
      "outputs": [
        {
          "output_type": "execute_result",
          "data": {
            "text/plain": [
              "((4, 2), (4, 1))"
            ]
          },
          "metadata": {},
          "execution_count": 10
        }
      ]
    },
    {
      "cell_type": "code",
      "source": [
        "def sig(z):\n",
        "  return 1/(1+ np.exp(-z))"
      ],
      "metadata": {
        "id": "j6H9jSSzqqmb"
      },
      "execution_count": 11,
      "outputs": []
    },
    {
      "cell_type": "code",
      "source": [
        "def derivativeSig(z):\n",
        "  return sig(z)*(1 - sig(z))"
      ],
      "metadata": {
        "id": "rNnwHsY3NwC_"
      },
      "execution_count": 12,
      "outputs": []
    },
    {
      "cell_type": "code",
      "source": [
        "wh = 2* np.random.random((2, 2)) - 1\n",
        "bh= 2 * np.random.random((1, 2)) - 1\n",
        "wo= 2 * np.random.random((2, 1)) - 1 \n",
        "bo= 2 * np.random.random((1, 1)) - 1   \n",
        "lr= 0.1                     \n",
        "wh, bh, wo, bo"
      ],
      "metadata": {
        "colab": {
          "base_uri": "https://localhost:8080/"
        },
        "id": "gR5qREK8q_7h",
        "outputId": "49c495e0-0a5d-45f8-dfc0-11cded8799e7"
      },
      "execution_count": 13,
      "outputs": [
        {
          "output_type": "execute_result",
          "data": {
            "text/plain": [
              "(array([[-0.8143549 ,  0.95115382],\n",
              "        [-0.73774633,  0.06298741]]),\n",
              " array([[ 0.01594752, -0.56386114]]),\n",
              " array([[ 0.62813529],\n",
              "        [-0.08490347]]),\n",
              " array([[-0.9278449]]))"
            ]
          },
          "metadata": {},
          "execution_count": 13
        }
      ]
    },
    {
      "cell_type": "code",
      "source": [
        "for itern in range(10000):\n",
        "    output0 = X\n",
        "    inputHidden= np.dot(output0, wh) + bh\n",
        "    outputHidden = sig(inputHidden)\n",
        "    inputForOutputLayer = np.dot(outputHidden, wo) + bo\n",
        "    output= sig(inputForOutputLayer)\n",
        "\n",
        "    first_term_output_layer= output - Y\n",
        "    second_term_output_layer= derivativeSig(inputForOutputLayer)\n",
        "    first_two_output_layer= first_term_output_layer*second_term_output_layer\n",
        "\n",
        "    first_term_hidden_layer= np.dot(first_two_output_layer, wo.T)\n",
        "    secon_term_hidden_layer= derivativeSig(inputHidden)\n",
        "    first_two_hidden_layer= first_term_hidden_layer * secon_term_hidden_layer\n",
        "\n",
        "    changes_output= np.dot(outputHidden.T, first_two_output_layer)\n",
        "    changes_output_bias= np.sum(first_two_output_layer, axis = 0, keepdims=True)\n",
        "\n",
        "    changes_hidden= np.dot(output0.T, first_two_hidden_layer)\n",
        "    changes_hidden_bias= np.sum(first_two_hidden_layer, axis = 0, keepdims=True)\n",
        "\n",
        "    wo= wo - lr*changes_output\n",
        "    bo= bo - lr*changes_output_bias\n",
        "\n",
        "    wh= wh - lr*changes_hidden\n",
        "    bh= bh - lr*changes_hidden_bias\n",
        "output0 = X\n",
        "inputHidden= np.dot(output0, wh) + bh\n",
        "outputHidden = sig(inputHidden)\n",
        "inputForOutputLayer = np.dot(outputHidden, wo) + bo\n",
        "output= sig(inputForOutputLayer)\n",
        "output, wh, bh, wo, bo\n"
      ],
      "metadata": {
        "colab": {
          "base_uri": "https://localhost:8080/"
        },
        "id": "k54XlkzUrMui",
        "outputId": "3476e95b-6310-41c3-efcd-b149f02c223a"
      },
      "execution_count": 14,
      "outputs": [
        {
          "output_type": "execute_result",
          "data": {
            "text/plain": [
              "(array([[0.12982703],\n",
              "        [0.87665073],\n",
              "        [0.87673301],\n",
              "        [0.15236253]]),\n",
              " array([[-3.55037066,  5.68482647],\n",
              "        [-3.54788897,  5.67047589]]),\n",
              " array([[ 5.27315254, -2.3265452 ]]),\n",
              " array([[5.43352506],\n",
              "        [5.31083849]]),\n",
              " array([[-7.78068591]]))"
            ]
          },
          "metadata": {},
          "execution_count": 14
        }
      ]
    },
    {
      "cell_type": "code",
      "source": [],
      "metadata": {
        "id": "iGbuMFWTtPFp"
      },
      "execution_count": 14,
      "outputs": []
    }
  ]
}