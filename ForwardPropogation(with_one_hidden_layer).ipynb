{
  "nbformat": 4,
  "nbformat_minor": 0,
  "metadata": {
    "colab": {
      "provenance": [],
      "authorship_tag": "ABX9TyP1gTRa1gOVlpVSopRKCtlT"
    },
    "kernelspec": {
      "name": "python3",
      "display_name": "Python 3"
    },
    "language_info": {
      "name": "python"
    }
  },
  "cells": [
    {
      "cell_type": "code",
      "execution_count": 1,
      "metadata": {
        "id": "q4OQIX6BqEzX"
      },
      "outputs": [],
      "source": [
        "import numpy as np"
      ]
    },
    {
      "cell_type": "code",
      "source": [
        "X= np.array([[0,0], [0,1], [1,0], [1,1]])\n",
        "Y = np.array([[0,0,0,1]]).T\n",
        "X.shape, Y.shape"
      ],
      "metadata": {
        "colab": {
          "base_uri": "https://localhost:8080/"
        },
        "id": "B_RO8t-XqHoK",
        "outputId": "342c675d-5968-4b54-ea07-d41d24d22903"
      },
      "execution_count": 3,
      "outputs": [
        {
          "output_type": "execute_result",
          "data": {
            "text/plain": [
              "((4, 2), (4, 1))"
            ]
          },
          "metadata": {},
          "execution_count": 3
        }
      ]
    },
    {
      "cell_type": "code",
      "source": [
        "def sig(z):\n",
        "  return 1/(1+ np.exp(-z))"
      ],
      "metadata": {
        "id": "j6H9jSSzqqmb"
      },
      "execution_count": 5,
      "outputs": []
    },
    {
      "cell_type": "code",
      "source": [
        "wh = 2* np.random.random((2, 2)) - 1\n",
        "bh= 2 * np.random.random((1, 2)) - 1\n",
        "wo= 2 * np.random.random((2, 1)) - 1 \n",
        "bo= 2 * np.random.random((1, 1)) - 1                        \n",
        "wh, bh, wo, bo"
      ],
      "metadata": {
        "colab": {
          "base_uri": "https://localhost:8080/"
        },
        "id": "gR5qREK8q_7h",
        "outputId": "b4b99950-ceeb-4ac2-dfe0-dc78c2cad5f1"
      },
      "execution_count": 13,
      "outputs": [
        {
          "output_type": "execute_result",
          "data": {
            "text/plain": [
              "(array([[-0.90040719,  0.61815731],\n",
              "        [ 0.78592199,  0.67624366]]),\n",
              " array([[-0.72459274,  0.00300984]]),\n",
              " array([[0.19797017],\n",
              "        [0.6469548 ]]),\n",
              " array([[0.85257991]]))"
            ]
          },
          "metadata": {},
          "execution_count": 13
        }
      ]
    },
    {
      "cell_type": "code",
      "source": [
        "output0 = X\n",
        "outputHidden = sig(np.dot(output0, wh) + bh)\n",
        "output = sig(np.dot(outputHidden, wo) + b0)\n",
        "output"
      ],
      "metadata": {
        "colab": {
          "base_uri": "https://localhost:8080/"
        },
        "id": "k54XlkzUrMui",
        "outputId": "aceafe88-e2cf-42e9-e275-bb35c66278f9"
      },
      "execution_count": 15,
      "outputs": [
        {
          "output_type": "execute_result",
          "data": {
            "text/plain": [
              "array([[0.72276621],\n",
              "       [0.62725021],\n",
              "       [0.85603334],\n",
              "       [0.79330132]])"
            ]
          },
          "metadata": {},
          "execution_count": 15
        }
      ]
    },
    {
      "cell_type": "code",
      "source": [],
      "metadata": {
        "id": "iGbuMFWTtPFp"
      },
      "execution_count": null,
      "outputs": []
    }
  ]
}
