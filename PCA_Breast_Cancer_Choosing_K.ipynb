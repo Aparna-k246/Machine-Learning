{
  "nbformat": 4,
  "nbformat_minor": 0,
  "metadata": {
    "colab": {
      "provenance": [],
      "authorship_tag": "ABX9TyMvO5QXAPs8IEmCLpRmWovY"
    },
    "kernelspec": {
      "name": "python3",
      "display_name": "Python 3"
    },
    "language_info": {
      "name": "python"
    }
  },
  "cells": [
    {
      "cell_type": "code",
      "execution_count": 1,
      "metadata": {
        "id": "JlT4uKNa4ZMP"
      },
      "outputs": [],
      "source": [
        "from sklearn import decomposition, linear_model,datasets\n",
        "import numpy as np\n",
        "import time\n",
        "from sklearn.preprocessing import StandardScaler\n",
        "from sklearn.model_selection import train_test_split"
      ]
    },
    {
      "cell_type": "code",
      "source": [
        "breast_cancer=datasets.load_breast_cancer()"
      ],
      "metadata": {
        "id": "7zF4fA6f5ZoV"
      },
      "execution_count": 2,
      "outputs": []
    },
    {
      "cell_type": "code",
      "source": [
        "X=breast_cancer.data\n",
        "X.shape"
      ],
      "metadata": {
        "colab": {
          "base_uri": "https://localhost:8080/"
        },
        "id": "o6W8bjYC5gGh",
        "outputId": "36f42c6f-ced1-49da-e260-31ccdb4787ba"
      },
      "execution_count": 3,
      "outputs": [
        {
          "output_type": "execute_result",
          "data": {
            "text/plain": [
              "(569, 30)"
            ]
          },
          "metadata": {},
          "execution_count": 3
        }
      ]
    },
    {
      "cell_type": "code",
      "source": [
        "sc=StandardScaler()\n",
        "X_std=sc.fit_transform(X)"
      ],
      "metadata": {
        "id": "Q5Gpzpv45kix"
      },
      "execution_count": 4,
      "outputs": []
    },
    {
      "cell_type": "code",
      "source": [
        "x_train,x_test,y_train,y_test=train_test_split(X_std,breast_cancer.target,random_state=0)"
      ],
      "metadata": {
        "id": "8_TlKb325uGq"
      },
      "execution_count": 5,
      "outputs": []
    },
    {
      "cell_type": "code",
      "source": [
        "pca=decomposition.PCA()"
      ],
      "metadata": {
        "id": "PcnCEwv6xpny"
      },
      "execution_count": 6,
      "outputs": []
    },
    {
      "cell_type": "code",
      "source": [
        "pca.fit_transform(x_train)"
      ],
      "metadata": {
        "colab": {
          "base_uri": "https://localhost:8080/"
        },
        "id": "WtjZOsjxxtPY",
        "outputId": "04adea13-c949-4705-a4b0-5b47051a2234"
      },
      "execution_count": 7,
      "outputs": [
        {
          "output_type": "execute_result",
          "data": {
            "text/plain": [
              "array([[-2.83807710e+00, -3.19380204e-01, -5.09786956e-01, ...,\n",
              "         2.21524204e-03,  1.76560105e-02,  2.17290491e-03],\n",
              "       [-3.23881077e+00,  9.46695152e-01,  1.46301470e+00, ...,\n",
              "        -3.50930341e-03,  1.56914143e-02,  1.44518116e-02],\n",
              "       [ 3.92831902e+00, -3.30091570e+00,  1.84183164e+00, ...,\n",
              "         2.00501871e-02, -3.44990391e-02, -1.16657352e-02],\n",
              "       ...,\n",
              "       [-3.17962251e+00,  4.33267733e-01,  5.77005027e-01, ...,\n",
              "         3.85704447e-02, -4.18716728e-02,  1.59435183e-02],\n",
              "       [-5.59141525e+00, -7.52889177e-01,  4.06478207e+00, ...,\n",
              "         1.97618354e-02, -1.70355933e-02,  4.38111630e-03],\n",
              "       [-1.20802261e+00,  1.32965049e+00,  1.26115052e+00, ...,\n",
              "        -1.32544095e-02, -1.58653526e-03, -1.14601436e-02]])"
            ]
          },
          "metadata": {},
          "execution_count": 7
        }
      ]
    },
    {
      "cell_type": "code",
      "source": [
        "total=sum(pca.explained_variance_)\n",
        "k=0\n",
        "current_variance=0\n",
        "while current_variance/total < 0.95:\n",
        "  current_variance+=pca.explained_variance_[k]\n",
        "  k=k+1\n",
        "k"
      ],
      "metadata": {
        "colab": {
          "base_uri": "https://localhost:8080/"
        },
        "id": "C4Tz__g5xyqw",
        "outputId": "46e08b8d-9b8a-4529-c14c-364d8837b543"
      },
      "execution_count": 13,
      "outputs": [
        {
          "output_type": "execute_result",
          "data": {
            "text/plain": [
              "9"
            ]
          },
          "metadata": {},
          "execution_count": 13
        }
      ]
    },
    {
      "cell_type": "code",
      "source": [
        "pca=decomposition.PCA(n_components=k)\n",
        "x_train_pca=pca.fit_transform(x_train)\n",
        "x_test_pca=pca.transform(x_test)\n",
        "x_train_pca.shape"
      ],
      "metadata": {
        "colab": {
          "base_uri": "https://localhost:8080/"
        },
        "id": "Wn8HZ_J96WWZ",
        "outputId": "8c7fe6ad-c238-4d47-e080-0f7bf8975342"
      },
      "execution_count": 15,
      "outputs": [
        {
          "output_type": "execute_result",
          "data": {
            "text/plain": [
              "(426, 9)"
            ]
          },
          "metadata": {},
          "execution_count": 15
        }
      ]
    },
    {
      "cell_type": "code",
      "source": [
        "lr=linear_model.LogisticRegression()\n",
        "start=time.time()\n",
        "lr.fit(x_train,y_train)\n",
        "ending=time.time()\n",
        "print(ending-start)\n",
        "print(lr.score(x_test,y_test))"
      ],
      "metadata": {
        "colab": {
          "base_uri": "https://localhost:8080/"
        },
        "id": "XwwjnCfq7D4-",
        "outputId": "43d49851-d77e-4dcc-cadc-0f06f8c774c4"
      },
      "execution_count": 10,
      "outputs": [
        {
          "output_type": "stream",
          "name": "stdout",
          "text": [
            "0.0499422550201416\n",
            "0.965034965034965\n"
          ]
        }
      ]
    },
    {
      "cell_type": "code",
      "source": [
        "lr=linear_model.LogisticRegression()\n",
        "start=time.time()\n",
        "lr.fit(x_train_pca,y_train)\n",
        "ending=time.time()\n",
        "print(ending-start)\n",
        "print(lr.score(x_test_pca,y_test))"
      ],
      "metadata": {
        "colab": {
          "base_uri": "https://localhost:8080/"
        },
        "id": "b1upIxhu7gyA",
        "outputId": "bd1caf9d-6352-46fb-b1cd-e7d96162cb86"
      },
      "execution_count": 11,
      "outputs": [
        {
          "output_type": "stream",
          "name": "stdout",
          "text": [
            "0.027777433395385742\n",
            "0.958041958041958\n"
          ]
        }
      ]
    }
  ]
}