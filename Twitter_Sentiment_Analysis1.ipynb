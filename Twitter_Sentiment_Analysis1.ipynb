{
  "nbformat": 4,
  "nbformat_minor": 0,
  "metadata": {
    "colab": {
      "provenance": [],
      "authorship_tag": "ABX9TyNUhAS7M10EwMFoRTlOIUpX"
    },
    "kernelspec": {
      "name": "python3",
      "display_name": "Python 3"
    },
    "language_info": {
      "name": "python"
    }
  },
  "cells": [
    {
      "cell_type": "code",
      "execution_count": 5,
      "metadata": {
        "id": "R5iSi2ZnfrGD"
      },
      "outputs": [],
      "source": [
        "#necessary imports\n",
        "from pandas import read_csv\n",
        "from pandas import Series\n",
        "from nltk.tokenize import word_tokenize\n",
        "from nltk.corpus import stopwords\n",
        "from nltk.stem import WordNetLemmatizer\n",
        "from nltk import pos_tag\n",
        "from nltk.corpus import wordnet\n",
        "from sklearn.feature_extraction.text import CountVectorizer, TfidfVectorizer\n",
        "from sklearn.svm import SVC\n",
        "from sklearn.ensemble import RandomForestClassifier\n",
        "from sklearn.neighbors import KNeighborsClassifier\n",
        "from sklearn.naive_bayes import MultinomialNB\n",
        "from string import punctuation\n",
        "from numpy import savetxt"
      ]
    },
    {
      "cell_type": "code",
      "source": [
        "# loading the data\n",
        "train_data =read_csv(r'/content/0000000000002747_training_twitter_x_y_train.csv')\n",
        "test_data  =read_csv(r'/content/0000000000002747_test_twitter_x_test.csv')"
      ],
      "metadata": {
        "id": "76NabyO7ft36"
      },
      "execution_count": 8,
      "outputs": []
    },
    {
      "cell_type": "code",
      "source": [
        "# tain and test data shape\n",
        "print(\"Train data :\",train_data.shape)\n",
        "print(\"Test data :\",test_data.shape)"
      ],
      "metadata": {
        "colab": {
          "base_uri": "https://localhost:8080/"
        },
        "id": "bzE3xX1mhwGF",
        "outputId": "d76a4241-07bd-4483-8162-903df27fc333"
      },
      "execution_count": 9,
      "outputs": [
        {
          "output_type": "stream",
          "name": "stdout",
          "text": [
            "Train data : (10980, 12)\n",
            "Test data : (3660, 11)\n"
          ]
        }
      ]
    },
    {
      "cell_type": "code",
      "source": [
        "# lets have a look into the train_data\n",
        "\n",
        "train_data.head()"
      ],
      "metadata": {
        "colab": {
          "base_uri": "https://localhost:8080/",
          "height": 531
        },
        "id": "wbEBS9UFh3Ok",
        "outputId": "22f35a5b-587b-432d-b77b-ed13684cc25b"
      },
      "execution_count": 10,
      "outputs": [
        {
          "output_type": "execute_result",
          "data": {
            "text/plain": [
              "             tweet_id airline_sentiment    airline airline_sentiment_gold  \\\n",
              "0  567900433542488064          negative  Southwest                    NaN   \n",
              "1  569989168903819264          positive  Southwest                    NaN   \n",
              "2  568089179520954368          positive     United                    NaN   \n",
              "3  568928195581513728          negative  Southwest                    NaN   \n",
              "4  568594180014014464          negative     United                    NaN   \n",
              "\n",
              "            name negativereason_gold  retweet_count  \\\n",
              "0  ColeyGirouard                 NaN              0   \n",
              "1  WalterFaddoul                 NaN              0   \n",
              "2      LocalKyle                 NaN              0   \n",
              "3    amccarthy19                 NaN              0   \n",
              "4        J_Okayy                 NaN              0   \n",
              "\n",
              "                                                text tweet_coord  \\\n",
              "0  @SouthwestAir I am scheduled for the morning, ...         NaN   \n",
              "1  @SouthwestAir seeing your workers time in and ...         NaN   \n",
              "2  @united Flew ORD to Miami and back and  had gr...         NaN   \n",
              "3     @SouthwestAir @dultch97 that's horse radish 😤🐴         NaN   \n",
              "4  @united so our flight into ORD was delayed bec...         NaN   \n",
              "\n",
              "               tweet_created              tweet_location  \\\n",
              "0  2015-02-17 20:16:29 -0800             Washington D.C.   \n",
              "1  2015-02-23 14:36:22 -0800  Indianapolis, Indiana; USA   \n",
              "2  2015-02-18 08:46:29 -0800                    Illinois   \n",
              "3  2015-02-20 16:20:26 -0800                         NaN   \n",
              "4  2015-02-19 18:13:11 -0800                         NaN   \n",
              "\n",
              "                user_timezone  \n",
              "0      Atlantic Time (Canada)  \n",
              "1  Central Time (US & Canada)  \n",
              "2  Central Time (US & Canada)  \n",
              "3      Atlantic Time (Canada)  \n",
              "4  Eastern Time (US & Canada)  "
            ],
            "text/html": [
              "\n",
              "  <div id=\"df-0a0afd95-c50d-475c-b957-b8d14d4e80d7\">\n",
              "    <div class=\"colab-df-container\">\n",
              "      <div>\n",
              "<style scoped>\n",
              "    .dataframe tbody tr th:only-of-type {\n",
              "        vertical-align: middle;\n",
              "    }\n",
              "\n",
              "    .dataframe tbody tr th {\n",
              "        vertical-align: top;\n",
              "    }\n",
              "\n",
              "    .dataframe thead th {\n",
              "        text-align: right;\n",
              "    }\n",
              "</style>\n",
              "<table border=\"1\" class=\"dataframe\">\n",
              "  <thead>\n",
              "    <tr style=\"text-align: right;\">\n",
              "      <th></th>\n",
              "      <th>tweet_id</th>\n",
              "      <th>airline_sentiment</th>\n",
              "      <th>airline</th>\n",
              "      <th>airline_sentiment_gold</th>\n",
              "      <th>name</th>\n",
              "      <th>negativereason_gold</th>\n",
              "      <th>retweet_count</th>\n",
              "      <th>text</th>\n",
              "      <th>tweet_coord</th>\n",
              "      <th>tweet_created</th>\n",
              "      <th>tweet_location</th>\n",
              "      <th>user_timezone</th>\n",
              "    </tr>\n",
              "  </thead>\n",
              "  <tbody>\n",
              "    <tr>\n",
              "      <th>0</th>\n",
              "      <td>567900433542488064</td>\n",
              "      <td>negative</td>\n",
              "      <td>Southwest</td>\n",
              "      <td>NaN</td>\n",
              "      <td>ColeyGirouard</td>\n",
              "      <td>NaN</td>\n",
              "      <td>0</td>\n",
              "      <td>@SouthwestAir I am scheduled for the morning, ...</td>\n",
              "      <td>NaN</td>\n",
              "      <td>2015-02-17 20:16:29 -0800</td>\n",
              "      <td>Washington D.C.</td>\n",
              "      <td>Atlantic Time (Canada)</td>\n",
              "    </tr>\n",
              "    <tr>\n",
              "      <th>1</th>\n",
              "      <td>569989168903819264</td>\n",
              "      <td>positive</td>\n",
              "      <td>Southwest</td>\n",
              "      <td>NaN</td>\n",
              "      <td>WalterFaddoul</td>\n",
              "      <td>NaN</td>\n",
              "      <td>0</td>\n",
              "      <td>@SouthwestAir seeing your workers time in and ...</td>\n",
              "      <td>NaN</td>\n",
              "      <td>2015-02-23 14:36:22 -0800</td>\n",
              "      <td>Indianapolis, Indiana; USA</td>\n",
              "      <td>Central Time (US &amp; Canada)</td>\n",
              "    </tr>\n",
              "    <tr>\n",
              "      <th>2</th>\n",
              "      <td>568089179520954368</td>\n",
              "      <td>positive</td>\n",
              "      <td>United</td>\n",
              "      <td>NaN</td>\n",
              "      <td>LocalKyle</td>\n",
              "      <td>NaN</td>\n",
              "      <td>0</td>\n",
              "      <td>@united Flew ORD to Miami and back and  had gr...</td>\n",
              "      <td>NaN</td>\n",
              "      <td>2015-02-18 08:46:29 -0800</td>\n",
              "      <td>Illinois</td>\n",
              "      <td>Central Time (US &amp; Canada)</td>\n",
              "    </tr>\n",
              "    <tr>\n",
              "      <th>3</th>\n",
              "      <td>568928195581513728</td>\n",
              "      <td>negative</td>\n",
              "      <td>Southwest</td>\n",
              "      <td>NaN</td>\n",
              "      <td>amccarthy19</td>\n",
              "      <td>NaN</td>\n",
              "      <td>0</td>\n",
              "      <td>@SouthwestAir @dultch97 that's horse radish 😤🐴</td>\n",
              "      <td>NaN</td>\n",
              "      <td>2015-02-20 16:20:26 -0800</td>\n",
              "      <td>NaN</td>\n",
              "      <td>Atlantic Time (Canada)</td>\n",
              "    </tr>\n",
              "    <tr>\n",
              "      <th>4</th>\n",
              "      <td>568594180014014464</td>\n",
              "      <td>negative</td>\n",
              "      <td>United</td>\n",
              "      <td>NaN</td>\n",
              "      <td>J_Okayy</td>\n",
              "      <td>NaN</td>\n",
              "      <td>0</td>\n",
              "      <td>@united so our flight into ORD was delayed bec...</td>\n",
              "      <td>NaN</td>\n",
              "      <td>2015-02-19 18:13:11 -0800</td>\n",
              "      <td>NaN</td>\n",
              "      <td>Eastern Time (US &amp; Canada)</td>\n",
              "    </tr>\n",
              "  </tbody>\n",
              "</table>\n",
              "</div>\n",
              "      <button class=\"colab-df-convert\" onclick=\"convertToInteractive('df-0a0afd95-c50d-475c-b957-b8d14d4e80d7')\"\n",
              "              title=\"Convert this dataframe to an interactive table.\"\n",
              "              style=\"display:none;\">\n",
              "        \n",
              "  <svg xmlns=\"http://www.w3.org/2000/svg\" height=\"24px\"viewBox=\"0 0 24 24\"\n",
              "       width=\"24px\">\n",
              "    <path d=\"M0 0h24v24H0V0z\" fill=\"none\"/>\n",
              "    <path d=\"M18.56 5.44l.94 2.06.94-2.06 2.06-.94-2.06-.94-.94-2.06-.94 2.06-2.06.94zm-11 1L8.5 8.5l.94-2.06 2.06-.94-2.06-.94L8.5 2.5l-.94 2.06-2.06.94zm10 10l.94 2.06.94-2.06 2.06-.94-2.06-.94-.94-2.06-.94 2.06-2.06.94z\"/><path d=\"M17.41 7.96l-1.37-1.37c-.4-.4-.92-.59-1.43-.59-.52 0-1.04.2-1.43.59L10.3 9.45l-7.72 7.72c-.78.78-.78 2.05 0 2.83L4 21.41c.39.39.9.59 1.41.59.51 0 1.02-.2 1.41-.59l7.78-7.78 2.81-2.81c.8-.78.8-2.07 0-2.86zM5.41 20L4 18.59l7.72-7.72 1.47 1.35L5.41 20z\"/>\n",
              "  </svg>\n",
              "      </button>\n",
              "      \n",
              "  <style>\n",
              "    .colab-df-container {\n",
              "      display:flex;\n",
              "      flex-wrap:wrap;\n",
              "      gap: 12px;\n",
              "    }\n",
              "\n",
              "    .colab-df-convert {\n",
              "      background-color: #E8F0FE;\n",
              "      border: none;\n",
              "      border-radius: 50%;\n",
              "      cursor: pointer;\n",
              "      display: none;\n",
              "      fill: #1967D2;\n",
              "      height: 32px;\n",
              "      padding: 0 0 0 0;\n",
              "      width: 32px;\n",
              "    }\n",
              "\n",
              "    .colab-df-convert:hover {\n",
              "      background-color: #E2EBFA;\n",
              "      box-shadow: 0px 1px 2px rgba(60, 64, 67, 0.3), 0px 1px 3px 1px rgba(60, 64, 67, 0.15);\n",
              "      fill: #174EA6;\n",
              "    }\n",
              "\n",
              "    [theme=dark] .colab-df-convert {\n",
              "      background-color: #3B4455;\n",
              "      fill: #D2E3FC;\n",
              "    }\n",
              "\n",
              "    [theme=dark] .colab-df-convert:hover {\n",
              "      background-color: #434B5C;\n",
              "      box-shadow: 0px 1px 3px 1px rgba(0, 0, 0, 0.15);\n",
              "      filter: drop-shadow(0px 1px 2px rgba(0, 0, 0, 0.3));\n",
              "      fill: #FFFFFF;\n",
              "    }\n",
              "  </style>\n",
              "\n",
              "      <script>\n",
              "        const buttonEl =\n",
              "          document.querySelector('#df-0a0afd95-c50d-475c-b957-b8d14d4e80d7 button.colab-df-convert');\n",
              "        buttonEl.style.display =\n",
              "          google.colab.kernel.accessAllowed ? 'block' : 'none';\n",
              "\n",
              "        async function convertToInteractive(key) {\n",
              "          const element = document.querySelector('#df-0a0afd95-c50d-475c-b957-b8d14d4e80d7');\n",
              "          const dataTable =\n",
              "            await google.colab.kernel.invokeFunction('convertToInteractive',\n",
              "                                                     [key], {});\n",
              "          if (!dataTable) return;\n",
              "\n",
              "          const docLinkHtml = 'Like what you see? Visit the ' +\n",
              "            '<a target=\"_blank\" href=https://colab.research.google.com/notebooks/data_table.ipynb>data table notebook</a>'\n",
              "            + ' to learn more about interactive tables.';\n",
              "          element.innerHTML = '';\n",
              "          dataTable['output_type'] = 'display_data';\n",
              "          await google.colab.output.renderOutput(dataTable, element);\n",
              "          const docLink = document.createElement('div');\n",
              "          docLink.innerHTML = docLinkHtml;\n",
              "          element.appendChild(docLink);\n",
              "        }\n",
              "      </script>\n",
              "    </div>\n",
              "  </div>\n",
              "  "
            ]
          },
          "metadata": {},
          "execution_count": 10
        }
      ]
    },
    {
      "cell_type": "code",
      "source": [
        "#let us prepare our train and test data\n",
        "train_X = train_data['text']\n",
        "train_y = train_data['airline_sentiment']\n",
        "\n",
        "test_X = test_data['text']"
      ],
      "metadata": {
        "id": "JoVGW2y3h6U0"
      },
      "execution_count": 11,
      "outputs": []
    },
    {
      "cell_type": "code",
      "source": [
        "# have a look on the data\n",
        "train_X[1]"
      ],
      "metadata": {
        "colab": {
          "base_uri": "https://localhost:8080/",
          "height": 55
        },
        "id": "CFjzVTdQiMd2",
        "outputId": "f2a32364-dd07-4189-84be-61e053635fd0"
      },
      "execution_count": 12,
      "outputs": [
        {
          "output_type": "execute_result",
          "data": {
            "text/plain": [
              "'@SouthwestAir seeing your workers time in and time out going above and beyond is why I love flying with you guys. Thank you!'"
            ],
            "application/vnd.google.colaboratory.intrinsic+json": {
              "type": "string"
            }
          },
          "metadata": {},
          "execution_count": 12
        }
      ]
    },
    {
      "cell_type": "code",
      "source": [
        "import nltk\n",
        "nltk.download('stopwords')"
      ],
      "metadata": {
        "colab": {
          "base_uri": "https://localhost:8080/"
        },
        "id": "LBFKsRUoiYln",
        "outputId": "8adbecca-bc05-4413-f37a-7f318d374847"
      },
      "execution_count": 14,
      "outputs": [
        {
          "output_type": "stream",
          "name": "stderr",
          "text": [
            "[nltk_data] Downloading package stopwords to /root/nltk_data...\n",
            "[nltk_data]   Unzipping corpora/stopwords.zip.\n"
          ]
        },
        {
          "output_type": "execute_result",
          "data": {
            "text/plain": [
              "True"
            ]
          },
          "metadata": {},
          "execution_count": 14
        }
      ]
    },
    {
      "cell_type": "code",
      "source": [
        "# preparing the stop words\n",
        "\n",
        "stop_words = set(stopwords.words('english'))\n",
        "# taking the punctuation from the string module\n",
        "punctuations = list(punctuation)\n",
        "# adding the punctuation in the end of stop_words\n",
        "stop_words.update(punctuations)"
      ],
      "metadata": {
        "id": "sAQDlZfziRJ2"
      },
      "execution_count": 15,
      "outputs": []
    },
    {
      "cell_type": "code",
      "source": [
        "# function to return simple version of the pos_tag which can be used in lemmatization\n",
        "def get_simple_pos_tag(tag):\n",
        "    \"take the pos_tag which and will return the simplified version of Wordnet format\"\n",
        "    if tag.startswith('J'):\n",
        "        return wordnet.ADJ\n",
        "    elif tag.startswith('V'):\n",
        "        return wordnet.VERB\n",
        "    elif tag.startswith('N'):\n",
        "        return wordnet.NOUN\n",
        "    elif tag.startswith('R'):\n",
        "        return wordnet.ADV\n",
        "    else:\n",
        "        return wordnet.NOUN\n",
        "\n",
        "# creating object for WordLemmatizer\n",
        "lemma = WordNetLemmatizer()\n",
        "\n",
        "def clean_tweet(tweet):\n",
        "    # tokenizing the sentence to words\n",
        "    words = word_tokenize(tweet)\n",
        "    # output cleaned words\n",
        "    cleaned_words = []\n",
        "    \n",
        "    # iterating over each word\n",
        "    for word in words:\n",
        "        # handling stop words\n",
        "        if word.lower() not in stop_words:\n",
        "            \n",
        "            # getting the pos_tag of the word, passing in a list/array to get pos_tag for word rather character\n",
        "            word_pos = pos_tag([word])\n",
        "            \n",
        "            #lemmetizing the word \n",
        "            lemmetized_word = lemma.lemmatize(word,get_simple_pos_tag(word_pos[0][1]))\n",
        "            \n",
        "            # appending the word to cleaned words\n",
        "            cleaned_words.append(lemmetized_word.lower())\n",
        "    \n",
        "    # joining all the words to create a sentence\n",
        "    cleaned_tweet = ' '.join(cleaned_words)\n",
        "    \n",
        "    # returning the cleaned_tweet\n",
        "    return cleaned_tweet"
      ],
      "metadata": {
        "id": "XwA9nAuvic2l"
      },
      "execution_count": 16,
      "outputs": []
    },
    {
      "cell_type": "code",
      "source": [
        "\n",
        "import nltk\n",
        "nltk.download('punkt')"
      ],
      "metadata": {
        "colab": {
          "base_uri": "https://localhost:8080/"
        },
        "id": "SAvZu43hityC",
        "outputId": "e10da4b3-4574-4bde-fc8e-5d3c22d06ba4"
      },
      "execution_count": 18,
      "outputs": [
        {
          "output_type": "stream",
          "name": "stderr",
          "text": [
            "[nltk_data] Downloading package punkt to /root/nltk_data...\n",
            "[nltk_data]   Unzipping tokenizers/punkt.zip.\n"
          ]
        },
        {
          "output_type": "execute_result",
          "data": {
            "text/plain": [
              "True"
            ]
          },
          "metadata": {},
          "execution_count": 18
        }
      ]
    },
    {
      "cell_type": "code",
      "source": [
        "\n",
        "import nltk\n",
        "nltk.download('averaged_perceptron_tagger')"
      ],
      "metadata": {
        "colab": {
          "base_uri": "https://localhost:8080/"
        },
        "id": "s8e3tPPui4NM",
        "outputId": "87fb778e-d9da-44d2-b60d-705a4f067d07"
      },
      "execution_count": 20,
      "outputs": [
        {
          "output_type": "stream",
          "name": "stderr",
          "text": [
            "[nltk_data] Downloading package averaged_perceptron_tagger to\n",
            "[nltk_data]     /root/nltk_data...\n",
            "[nltk_data]   Unzipping taggers/averaged_perceptron_tagger.zip.\n"
          ]
        },
        {
          "output_type": "execute_result",
          "data": {
            "text/plain": [
              "True"
            ]
          },
          "metadata": {},
          "execution_count": 20
        }
      ]
    },
    {
      "cell_type": "code",
      "source": [
        "import nltk\n",
        "nltk.download('wordnet')"
      ],
      "metadata": {
        "colab": {
          "base_uri": "https://localhost:8080/"
        },
        "id": "TmIsPvaGi_-K",
        "outputId": "9a679dee-11f5-4748-901e-c394b753f9b7"
      },
      "execution_count": 22,
      "outputs": [
        {
          "output_type": "stream",
          "name": "stderr",
          "text": [
            "[nltk_data] Downloading package wordnet to /root/nltk_data...\n"
          ]
        },
        {
          "output_type": "execute_result",
          "data": {
            "text/plain": [
              "True"
            ]
          },
          "metadata": {},
          "execution_count": 22
        }
      ]
    },
    {
      "cell_type": "code",
      "source": [
        "# testing the cleaned_tweet function\n",
        "li = 'Hi there! How are you buddy ?'\n",
        "clean_tweet(li)"
      ],
      "metadata": {
        "colab": {
          "base_uri": "https://localhost:8080/",
          "height": 38
        },
        "id": "7LMuDsSrimT0",
        "outputId": "c2fc00b2-d632-4377-f938-35416ce39114"
      },
      "execution_count": 23,
      "outputs": [
        {
          "output_type": "execute_result",
          "data": {
            "text/plain": [
              "'hi buddy'"
            ],
            "application/vnd.google.colaboratory.intrinsic+json": {
              "type": "string"
            }
          },
          "metadata": {},
          "execution_count": 23
        }
      ]
    },
    {
      "cell_type": "code",
      "source": [
        "#lets clean our text feature\n",
        "cleaned_X = [clean_tweet(tweet) for tweet in train_X]\n",
        "cleaned_test_X = [clean_tweet(tweet) for tweet in test_X]"
      ],
      "metadata": {
        "id": "oC9IupGpjHsp"
      },
      "execution_count": 24,
      "outputs": []
    },
    {
      "cell_type": "code",
      "source": [
        "count_vec = CountVectorizer(max_features= 1000,ngram_range=(1,2))\n",
        "X_trained_features = count_vec.fit_transform(cleaned_X)\n",
        "X_test_features = count_vec.transform(cleaned_test_X)"
      ],
      "metadata": {
        "id": "o3MyPklZjNyb"
      },
      "execution_count": 25,
      "outputs": []
    },
    {
      "cell_type": "code",
      "source": [
        "tfidf_vec = TfidfVectorizer(max_features=1000,ngram_range=(1,2),max_df=0.9,min_df=0.1)\n",
        "X_trained_features = count_vec.fit_transform(cleaned_X)\n",
        "X_test_features = count_vec.transform(cleaned_test_X)"
      ],
      "metadata": {
        "id": "iEmKuY1YjT7s"
      },
      "execution_count": 26,
      "outputs": []
    },
    {
      "cell_type": "code",
      "source": [
        "# lets see the top feature names\n",
        "count_vec.get_feature_names_out()"
      ],
      "metadata": {
        "colab": {
          "base_uri": "https://localhost:8080/"
        },
        "id": "dPPRK2vhjYdl",
        "outputId": "11c61d92-c798-44a0-e764-6dbf49f983dd"
      },
      "execution_count": 28,
      "outputs": [
        {
          "output_type": "execute_result",
          "data": {
            "text/plain": [
              "array(['000', '10', '100', '11', '12', '15', '19', '1hr', '1k', '1st',\n",
              "       '1st class', '20', '20 min', '20 minute', '200', '2015', '22',\n",
              "       '23', '24', '25', '2nd', '30', '30 min', '30 minute', '3rd', '40',\n",
              "       '40 min', '40 minute', '45', '45 min', '45 minute', '50', '60',\n",
              "       '75', '800', '90', 'aa', 'able', 'able get', 'absolutely',\n",
              "       'acceptable', 'access', 'account', 'actually', 'add', 'address',\n",
              "       'afternoon', 'agent', 'ago', 'air', 'aircraft', 'airline',\n",
              "       'airline ever', 'airlines', 'airport', 'airways', 'all', 'allow',\n",
              "       'almost', 'almost hour', 'already', 'also', 'always', 'amaze',\n",
              "       'american', 'americanair', 'americanair call',\n",
              "       'americanair cancelled', 'americanair flight', 'americanair get',\n",
              "       'americanair need', 'americanair please', 'americanair thank',\n",
              "       'americanair thanks', 'americanair try', 'americanair usairways',\n",
              "       'americanair ve', 'americanair yes', 'americanairlines', 'amp',\n",
              "       'announce', 'another', 'another airline', 'another flight',\n",
              "       'answer', 'answer phone', 'anyone', 'anything', 'anyway',\n",
              "       'apology', 'app', 'apparently', 'apply', 'appreciate', 'area',\n",
              "       'around', 'arrival', 'arrive', 'asap', 'ask', 'assist',\n",
              "       'assistance', 'atl', 'atlanta', 'attendant', 'attitude', 'austin',\n",
              "       'auto', 'automate', 'available', 'award', 'away', 'awesome',\n",
              "       'awful', 'baby', 'back', 'bad', 'bad airline', 'bad customer',\n",
              "       'bad experience', 'bad weather', 'bag', 'baggage', 'baggage claim',\n",
              "       'bc', 'begin', 'believe', 'best', 'beyond', 'big', 'birthday',\n",
              "       'blame', 'blue', 'bna', 'board', 'boarding', 'boarding pas',\n",
              "       'book', 'book flight', 'booking', 'booking problems', 'bos',\n",
              "       'boston', 'bought', 'bring', 'broken', 'business', 'busy', 'buy',\n",
              "       'bwi', 'ca', 'ca even', 'ca get', 'ca wait', 'cabin', 'call',\n",
              "       'call back', 'call customer', 'cancelled', 'cancelled flight',\n",
              "       'cancelled flighted', 'cancelled flighting',\n",
              "       'cancelled flightlation', 'cancelled flightlations',\n",
              "       'cancelled flightled', 'cant', 'car', 'card', 'care', 'carry',\n",
              "       'case', 'catch', 'cause', 'ceo', 'chance', 'change', 'change fee',\n",
              "       'change flight', 'charge', 'charlotte', 'check', 'check bag',\n",
              "       'check in', 'checked', 'checked bag', 'checkin', 'chicago',\n",
              "       'child', 'choice', 'city', 'claim', 'class', 'close', 'clothes',\n",
              "       'clt', 'club', 'co', 'code', 'cold', 'come', 'communication',\n",
              "       'companion', 'company', 'compensate', 'compensation', 'complaint',\n",
              "       'complete', 'completely', 'computer', 'concern', 'confirm',\n",
              "       'confirmation', 'connect', 'connect flight', 'connection',\n",
              "       'consider', 'contact', 'continue', 'control', 'cool', 'correct',\n",
              "       'cost', 'could', 'could get', 'count', 'counter', 'counting',\n",
              "       'country', 'course', 'cover', 'crazy', 'credit', 'credit card',\n",
              "       'crew', 'cross', 'currently', 'cust', 'customer',\n",
              "       'customer service', 'customerservice', 'cut', 'dallas', 'date',\n",
              "       'daughter', 'day', 'dc', 'dca', 'deal', 'delay', 'delay flight',\n",
              "       'delayed', 'delayed flight', 'delayed hour', 'deliver', 'delta',\n",
              "       'den', 'denver', 'deny', 'depart', 'departure', 'desk', 'despite',\n",
              "       'destination', 'destinationdragons', 'detail', 'dfw', 'different',\n",
              "       'direct', 'direct flight', 'disappointed', 'disconnect',\n",
              "       'dividend', 'dm', 'do', 'dont', 'door', 'drink', 'drive', 'drop',\n",
              "       'due', 'due weather', 'earlier', 'earlier flight', 'early', 'easy',\n",
              "       'either', 'else', 'email', 'email address', 'employee', 'empty',\n",
              "       'end', 'enjoy', 'enough', 'enter', 'entertainment', 'entire',\n",
              "       'error', 'especially', 'even', 'even though', 'ever', 'every',\n",
              "       'every time', 'everyone', 'everything', 'ewr', 'excellent',\n",
              "       'excite', 'excuse', 'expect', 'experience', 'expire', 'explain',\n",
              "       'explanation', 'extra', 'extremely', 'fact', 'fail', 'failure',\n",
              "       'family', 'fan', 'far', 'fare', 'fault', 'feb', 'fee', 'feel',\n",
              "       'feel like', 'figure', 'file', 'finally', 'finally get', 'find',\n",
              "       'fine', 'first', 'first class', 'first time', 'fix', 'fl', 'fleek',\n",
              "       'fleek http', 'fleet', 'fleet fleek', 'flew', 'flight',\n",
              "       'flight attendant', 'flight booking', 'flight cancelled',\n",
              "       'flight crew', 'flight delayed', 'flight flight', 'flight get',\n",
              "       'flight home', 'flight leave', 'flight time', 'flight today',\n",
              "       'flight tomorrow', 'flightd', 'flighted', 'flighted flight',\n",
              "       'flighting', 'flightlation', 'flightlations', 'flightled',\n",
              "       'flightled flight', 'flightr', 'flights', 'fll', 'flown', 'flt',\n",
              "       'fly', 'fly united', 'flyer', 'flying', 'folk', 'follow',\n",
              "       'follow dm', 'food', 'force', 'form', 'forward', 'found', 'four',\n",
              "       'free', 'frequent', 'friday', 'friend', 'friendly', 'front',\n",
              "       'frustrate', 'fuck', 'full', 'fun', 'funeral', 'future', 'gate',\n",
              "       'gate agent', 'get', 'get back', 'get bag', 'get call',\n",
              "       'get cancelled', 'get email', 'get flight', 'get home',\n",
              "       'get plane', 'give', 'glad', 'go', 'going', 'gold', 'gon',\n",
              "       'gon na', 'good', 'got', 'great', 'great flight', 'ground',\n",
              "       'group', 'gt', 'guess', 'guy', 'haha', 'half', 'handle', 'hang',\n",
              "       'happen', 'happens', 'happy', 'hard', 'hate', 'head', 'hear',\n",
              "       'heard', 'held', 'hello', 'help', 'help get', 'helpful', 'hey',\n",
              "       'hi', 'high', 'hold', 'hold hour', 'hold hr', 'home', 'hop',\n",
              "       'hope', 'hopefully', 'horrible', 'hotel', 'hour', 'hour ago',\n",
              "       'hour delay', 'hour flight', 'hour hold', 'hour late', 'hour wait',\n",
              "       'houston', 'hr', 'http', 'http co', 'huge', 'human', 'hung',\n",
              "       'husband', 'iad', 'iah', 'ice', 'id', 'idea', 'im',\n",
              "       'imaginedragons', 'in', 'include', 'inconvenience', 'info',\n",
              "       'information', 'instead', 'international', 'issue', 'item',\n",
              "       'itinerary', 'jet', 'jet blue', 'jetblue', 'jetblue fleet',\n",
              "       'jetblue flight', 'jetblue get', 'jetblue thank', 'jetblue thanks',\n",
              "       'jetblue would', 'jetblue yes', 'jfk', 'job', 'joke', 'keep',\n",
              "       'keep get', 'kept', 'kid', 'kind', 'knew', 'know', 'kudos', 'la',\n",
              "       'lack', 'lady', 'land', 'las', 'last', 'last night', 'late',\n",
              "       'late flight', 'late flightr', 'lax', 'layover', 'learn', 'least',\n",
              "       'leave', 'left', 'leg', 'less', 'let', 'let know', 'lga', 'lie',\n",
              "       'life', 'like', 'line', 'link', 'list', 'little', 'live', 'll',\n",
              "       'load', 'lol', 'long', 'longer', 'look', 'look like', 'looking',\n",
              "       'lose', 'lose bag', 'lose luggage', 'lot', 'lounge', 'love',\n",
              "       'loyal', 'lt', 'luck', 'luggage', 'luv', 'mail', 'maintenance',\n",
              "       'make', 'make sure', 'man', 'many', 'march', 'matter', 'may',\n",
              "       'maybe', 'mco', 'meal', 'mean', 'mechanical', 'mechanical issue',\n",
              "       'medium', 'member', 'mention', 'merger', 'mess', 'message', 'mia',\n",
              "       'miami', 'middle', 'might', 'mile', 'mileage', 'min', 'mind',\n",
              "       'mine', 'minute', 'miss', 'miss connection', 'miss flight',\n",
              "       'mistake', 'mobile', 'mom', 'monday', 'money', 'month', 'morning',\n",
              "       'move', 'much', 'multiple', 'must', 'na', 'name', 'nashville',\n",
              "       'need', 'need change', 'need get', 'need help', 'never',\n",
              "       'never fly', 'never get', 'neveragain', 'new', 'new flight',\n",
              "       'newark', 'news', 'next', 'next flight', 'next time', 'nice',\n",
              "       'night', 'non', 'none', 'nope', 'note', 'nothing', 'notice',\n",
              "       'notification', 'notify', 'number', 'ny', 'nyc', 'offer', 'office',\n",
              "       'oh', 'ok', 'okay', 'old', 'on', 'one', 'one answer', 'online',\n",
              "       'open', 'option', 'ord', 'order', 'original', 'orlando', 'others',\n",
              "       'overhead', 'overnight', 'page', 'paid', 'part', 'pas', 'pass',\n",
              "       'passenger', 'past', 'pay', 'people', 'person', 'philly', 'phl',\n",
              "       'phone', 'phone number', 'phx', 'pick', 'pilot', 'place', 'plan',\n",
              "       'plane', 'plane hour', 'platinum', 'please', 'please help', 'pls',\n",
              "       'plus', 'plz', 'pm', 'point', 'policy', 'poor', 'possible', 'post',\n",
              "       'ppl', 'pre', 'pretty', 'price', 'priority', 'probably', 'problem',\n",
              "       'problems', 'process', 'program', 'promise', 'provide', 'pull',\n",
              "       'purchase', 'put', 'put hold', 'question', 'quick', 'rate',\n",
              "       'rather', 'rdu', 're', 'reach', 'read', 'ready', 'real', 'really',\n",
              "       'reason', 'rebook', 'rebooked', 'receive', 'record', 'reflight',\n",
              "       'reflight booking', 'refund', 'refuse', 'rep', 'reply', 'report',\n",
              "       'request', 'reschedule', 'reschedule flight', 'reservation',\n",
              "       'resolve', 'respond', 'response', 'return', 'return flight',\n",
              "       'ridiculous', 'right', 'rock', 'room', 'round', 'route', 'row',\n",
              "       'rt', 'rt jetblue', 'rude', 'ruin', 'run', 'runway', 'sad',\n",
              "       'safety', 'san', 'sat', 'save', 'saw', 'say', 'schedule', 'screw',\n",
              "       'seat', 'second', 'see', 'seem', 'sell', 'send', 'sense', 'sent',\n",
              "       'sent dm', 'seriously', 'serve', 'service', 'service ever',\n",
              "       'service rep', 'set', 'several', 'sfo', 'share', 'shit', 'short',\n",
              "       'show', 'sign', 'since', 'sit', 'sit plane', 'site', 'situation',\n",
              "       'sleep', 'small', 'snow', 'social', 'someone', 'something', 'son',\n",
              "       'soon', 'sorry', 'sort', 'southwest', 'southwestair',\n",
              "       'southwestair flight', 'southwestair get', 'southwestair hold',\n",
              "       'southwestair need', 'southwestair please', 'southwestair thank',\n",
              "       'southwestair thanks', 'southwestair would', 'southwestair yes',\n",
              "       'space', 'speak', 'spend', 'spent', 'spoke', 'staff', 'stand',\n",
              "       'standby', 'start', 'state', 'status', 'stay', 'step', 'still',\n",
              "       'still wait', 'stop', 'storm', 'story', 'strand', 'stuck',\n",
              "       'submit', 'suck', 'sunday', 'super', 'supervisor', 'support',\n",
              "       'suppose', 'sure', 'sw', 'swa', 'switch', 'system', 'tag', 'take',\n",
              "       'take care', 'talk', 'tarmac', 'team', 'tell', 'terminal',\n",
              "       'terrible', 'thank', 'thank much', 'thanks', 'thanks help',\n",
              "       'thanks much', 'thing', 'think', 'though', 'thought', 'three',\n",
              "       'three hour', 'thru', 'thx', 'ticket', 'time', 'tire', 'tix',\n",
              "       'tmrw', 'today', 'together', 'told', 'tomorrow',\n",
              "       'tomorrow morning', 'tonight', 'top', 'totally', 'touch', 'track',\n",
              "       'train', 'transfer', 'travel', 'traveler', 'treat', 'trip',\n",
              "       'trouble', 'true', 'trust', 'try', 'try book', 'try call',\n",
              "       'try get', 'trying', 'tsa', 'tuesday', 'turn', 'tv', 'tweet',\n",
              "       'twice', 'twitter', 'two', 'two day', 'two hour', 'ua', 'unable',\n",
              "       'unacceptable', 'understand', 'unfortunately', 'unhappy', 'united',\n",
              "       'united airline', 'united bad', 'united cancelled',\n",
              "       'united customer', 'united flight', 'united get', 'united good',\n",
              "       'united need', 'united please', 'united really', 'united thank',\n",
              "       'united thanks', 'united try', 'united well', 'united would',\n",
              "       'united yes', 'unitedairlines', 'update', 'upgrade', 'upset', 'ur',\n",
              "       'us', 'us airways', 'usair', 'usairways', 'usairways americanair',\n",
              "       'usairways bad', 'usairways cancelled', 'usairways flight',\n",
              "       'usairways get', 'usairways hold', 'usairways hour',\n",
              "       'usairways need', 'usairways please', 'usairways thank',\n",
              "       'usairways thanks', 'usairways try', 'usairways ve',\n",
              "       'usairways would', 'usairways yes', 'usairwaysfail', 'use',\n",
              "       'vacation', 've', 've ever', 've hold', 've try', 'vegas', 'via',\n",
              "       'virgin', 'virginamerica', 'voucher', 'wait', 'wait hour',\n",
              "       'wait time', 'waiting', 'want', 'waste', 'watch', 'water', 'way',\n",
              "       'way get', 'weather', 'web', 'website', 'week', 'week ago',\n",
              "       'weekend', 'well', 'whole', 'wife', 'wifi', 'win', 'window',\n",
              "       'winter', 'wish', 'without', 'wo', 'wo let', 'wonder', 'wonderful',\n",
              "       'word', 'work', 'world', 'worry', 'worst', 'would', 'would like',\n",
              "       'would love', 'wow', 'write', 'wrong', 'wtf', 'yall', 'yeah',\n",
              "       'year', 'yes', 'yesterday', 'yet', 'yr', 'zero'], dtype=object)"
            ]
          },
          "metadata": {},
          "execution_count": 28
        }
      ]
    },
    {
      "cell_type": "code",
      "source": [
        "#Model Creation \n",
        "# Lets try the SVC\n",
        "\n",
        "svc = SVC()\n",
        "svc.fit(X_trained_features,train_y)"
      ],
      "metadata": {
        "colab": {
          "base_uri": "https://localhost:8080/",
          "height": 75
        },
        "id": "YnU3UnssjcCT",
        "outputId": "db6a5cdb-8044-4449-a5e6-22861955a7dc"
      },
      "execution_count": 29,
      "outputs": [
        {
          "output_type": "execute_result",
          "data": {
            "text/plain": [
              "SVC()"
            ],
            "text/html": [
              "<style>#sk-container-id-1 {color: black;background-color: white;}#sk-container-id-1 pre{padding: 0;}#sk-container-id-1 div.sk-toggleable {background-color: white;}#sk-container-id-1 label.sk-toggleable__label {cursor: pointer;display: block;width: 100%;margin-bottom: 0;padding: 0.3em;box-sizing: border-box;text-align: center;}#sk-container-id-1 label.sk-toggleable__label-arrow:before {content: \"▸\";float: left;margin-right: 0.25em;color: #696969;}#sk-container-id-1 label.sk-toggleable__label-arrow:hover:before {color: black;}#sk-container-id-1 div.sk-estimator:hover label.sk-toggleable__label-arrow:before {color: black;}#sk-container-id-1 div.sk-toggleable__content {max-height: 0;max-width: 0;overflow: hidden;text-align: left;background-color: #f0f8ff;}#sk-container-id-1 div.sk-toggleable__content pre {margin: 0.2em;color: black;border-radius: 0.25em;background-color: #f0f8ff;}#sk-container-id-1 input.sk-toggleable__control:checked~div.sk-toggleable__content {max-height: 200px;max-width: 100%;overflow: auto;}#sk-container-id-1 input.sk-toggleable__control:checked~label.sk-toggleable__label-arrow:before {content: \"▾\";}#sk-container-id-1 div.sk-estimator input.sk-toggleable__control:checked~label.sk-toggleable__label {background-color: #d4ebff;}#sk-container-id-1 div.sk-label input.sk-toggleable__control:checked~label.sk-toggleable__label {background-color: #d4ebff;}#sk-container-id-1 input.sk-hidden--visually {border: 0;clip: rect(1px 1px 1px 1px);clip: rect(1px, 1px, 1px, 1px);height: 1px;margin: -1px;overflow: hidden;padding: 0;position: absolute;width: 1px;}#sk-container-id-1 div.sk-estimator {font-family: monospace;background-color: #f0f8ff;border: 1px dotted black;border-radius: 0.25em;box-sizing: border-box;margin-bottom: 0.5em;}#sk-container-id-1 div.sk-estimator:hover {background-color: #d4ebff;}#sk-container-id-1 div.sk-parallel-item::after {content: \"\";width: 100%;border-bottom: 1px solid gray;flex-grow: 1;}#sk-container-id-1 div.sk-label:hover label.sk-toggleable__label {background-color: #d4ebff;}#sk-container-id-1 div.sk-serial::before {content: \"\";position: absolute;border-left: 1px solid gray;box-sizing: border-box;top: 0;bottom: 0;left: 50%;z-index: 0;}#sk-container-id-1 div.sk-serial {display: flex;flex-direction: column;align-items: center;background-color: white;padding-right: 0.2em;padding-left: 0.2em;position: relative;}#sk-container-id-1 div.sk-item {position: relative;z-index: 1;}#sk-container-id-1 div.sk-parallel {display: flex;align-items: stretch;justify-content: center;background-color: white;position: relative;}#sk-container-id-1 div.sk-item::before, #sk-container-id-1 div.sk-parallel-item::before {content: \"\";position: absolute;border-left: 1px solid gray;box-sizing: border-box;top: 0;bottom: 0;left: 50%;z-index: -1;}#sk-container-id-1 div.sk-parallel-item {display: flex;flex-direction: column;z-index: 1;position: relative;background-color: white;}#sk-container-id-1 div.sk-parallel-item:first-child::after {align-self: flex-end;width: 50%;}#sk-container-id-1 div.sk-parallel-item:last-child::after {align-self: flex-start;width: 50%;}#sk-container-id-1 div.sk-parallel-item:only-child::after {width: 0;}#sk-container-id-1 div.sk-dashed-wrapped {border: 1px dashed gray;margin: 0 0.4em 0.5em 0.4em;box-sizing: border-box;padding-bottom: 0.4em;background-color: white;}#sk-container-id-1 div.sk-label label {font-family: monospace;font-weight: bold;display: inline-block;line-height: 1.2em;}#sk-container-id-1 div.sk-label-container {text-align: center;}#sk-container-id-1 div.sk-container {/* jupyter's `normalize.less` sets `[hidden] { display: none; }` but bootstrap.min.css set `[hidden] { display: none !important; }` so we also need the `!important` here to be able to override the default hidden behavior on the sphinx rendered scikit-learn.org. See: https://github.com/scikit-learn/scikit-learn/issues/21755 */display: inline-block !important;position: relative;}#sk-container-id-1 div.sk-text-repr-fallback {display: none;}</style><div id=\"sk-container-id-1\" class=\"sk-top-container\"><div class=\"sk-text-repr-fallback\"><pre>SVC()</pre><b>In a Jupyter environment, please rerun this cell to show the HTML representation or trust the notebook. <br />On GitHub, the HTML representation is unable to render, please try loading this page with nbviewer.org.</b></div><div class=\"sk-container\" hidden><div class=\"sk-item\"><div class=\"sk-estimator sk-toggleable\"><input class=\"sk-toggleable__control sk-hidden--visually\" id=\"sk-estimator-id-1\" type=\"checkbox\" checked><label for=\"sk-estimator-id-1\" class=\"sk-toggleable__label sk-toggleable__label-arrow\">SVC</label><div class=\"sk-toggleable__content\"><pre>SVC()</pre></div></div></div></div></div>"
            ]
          },
          "metadata": {},
          "execution_count": 29
        }
      ]
    },
    {
      "cell_type": "code",
      "source": [
        "svc_pred = svc.predict(X_test_features)\n",
        "\n",
        "# score on train data, althout train score won't help much for us\n",
        "svc.score(X_trained_features,train_y)"
      ],
      "metadata": {
        "colab": {
          "base_uri": "https://localhost:8080/"
        },
        "id": "2JzssRWyjoNc",
        "outputId": "9b37d6d9-9c61-4dbb-8e0d-e1994e2076b4"
      },
      "execution_count": 30,
      "outputs": [
        {
          "output_type": "execute_result",
          "data": {
            "text/plain": [
              "0.8835154826958106"
            ]
          },
          "metadata": {},
          "execution_count": 30
        }
      ]
    },
    {
      "cell_type": "code",
      "source": [
        "# saving the predictions to CSV\n",
        "Series(svc_pred).to_csv('svc_pred.csv',index=False,header=False)"
      ],
      "metadata": {
        "id": "5lChlgRHjq-d"
      },
      "execution_count": 31,
      "outputs": []
    },
    {
      "cell_type": "code",
      "source": [
        "# trying the Naive Bayes Classifier\n",
        "nbc = MultinomialNB()\n",
        "\n",
        "nbc.fit(X_trained_features,train_y)"
      ],
      "metadata": {
        "colab": {
          "base_uri": "https://localhost:8080/",
          "height": 75
        },
        "id": "1E2GcBzqjv3W",
        "outputId": "fb1855ec-a0a6-4b11-b1a5-99256f842908"
      },
      "execution_count": 32,
      "outputs": [
        {
          "output_type": "execute_result",
          "data": {
            "text/plain": [
              "MultinomialNB()"
            ],
            "text/html": [
              "<style>#sk-container-id-2 {color: black;background-color: white;}#sk-container-id-2 pre{padding: 0;}#sk-container-id-2 div.sk-toggleable {background-color: white;}#sk-container-id-2 label.sk-toggleable__label {cursor: pointer;display: block;width: 100%;margin-bottom: 0;padding: 0.3em;box-sizing: border-box;text-align: center;}#sk-container-id-2 label.sk-toggleable__label-arrow:before {content: \"▸\";float: left;margin-right: 0.25em;color: #696969;}#sk-container-id-2 label.sk-toggleable__label-arrow:hover:before {color: black;}#sk-container-id-2 div.sk-estimator:hover label.sk-toggleable__label-arrow:before {color: black;}#sk-container-id-2 div.sk-toggleable__content {max-height: 0;max-width: 0;overflow: hidden;text-align: left;background-color: #f0f8ff;}#sk-container-id-2 div.sk-toggleable__content pre {margin: 0.2em;color: black;border-radius: 0.25em;background-color: #f0f8ff;}#sk-container-id-2 input.sk-toggleable__control:checked~div.sk-toggleable__content {max-height: 200px;max-width: 100%;overflow: auto;}#sk-container-id-2 input.sk-toggleable__control:checked~label.sk-toggleable__label-arrow:before {content: \"▾\";}#sk-container-id-2 div.sk-estimator input.sk-toggleable__control:checked~label.sk-toggleable__label {background-color: #d4ebff;}#sk-container-id-2 div.sk-label input.sk-toggleable__control:checked~label.sk-toggleable__label {background-color: #d4ebff;}#sk-container-id-2 input.sk-hidden--visually {border: 0;clip: rect(1px 1px 1px 1px);clip: rect(1px, 1px, 1px, 1px);height: 1px;margin: -1px;overflow: hidden;padding: 0;position: absolute;width: 1px;}#sk-container-id-2 div.sk-estimator {font-family: monospace;background-color: #f0f8ff;border: 1px dotted black;border-radius: 0.25em;box-sizing: border-box;margin-bottom: 0.5em;}#sk-container-id-2 div.sk-estimator:hover {background-color: #d4ebff;}#sk-container-id-2 div.sk-parallel-item::after {content: \"\";width: 100%;border-bottom: 1px solid gray;flex-grow: 1;}#sk-container-id-2 div.sk-label:hover label.sk-toggleable__label {background-color: #d4ebff;}#sk-container-id-2 div.sk-serial::before {content: \"\";position: absolute;border-left: 1px solid gray;box-sizing: border-box;top: 0;bottom: 0;left: 50%;z-index: 0;}#sk-container-id-2 div.sk-serial {display: flex;flex-direction: column;align-items: center;background-color: white;padding-right: 0.2em;padding-left: 0.2em;position: relative;}#sk-container-id-2 div.sk-item {position: relative;z-index: 1;}#sk-container-id-2 div.sk-parallel {display: flex;align-items: stretch;justify-content: center;background-color: white;position: relative;}#sk-container-id-2 div.sk-item::before, #sk-container-id-2 div.sk-parallel-item::before {content: \"\";position: absolute;border-left: 1px solid gray;box-sizing: border-box;top: 0;bottom: 0;left: 50%;z-index: -1;}#sk-container-id-2 div.sk-parallel-item {display: flex;flex-direction: column;z-index: 1;position: relative;background-color: white;}#sk-container-id-2 div.sk-parallel-item:first-child::after {align-self: flex-end;width: 50%;}#sk-container-id-2 div.sk-parallel-item:last-child::after {align-self: flex-start;width: 50%;}#sk-container-id-2 div.sk-parallel-item:only-child::after {width: 0;}#sk-container-id-2 div.sk-dashed-wrapped {border: 1px dashed gray;margin: 0 0.4em 0.5em 0.4em;box-sizing: border-box;padding-bottom: 0.4em;background-color: white;}#sk-container-id-2 div.sk-label label {font-family: monospace;font-weight: bold;display: inline-block;line-height: 1.2em;}#sk-container-id-2 div.sk-label-container {text-align: center;}#sk-container-id-2 div.sk-container {/* jupyter's `normalize.less` sets `[hidden] { display: none; }` but bootstrap.min.css set `[hidden] { display: none !important; }` so we also need the `!important` here to be able to override the default hidden behavior on the sphinx rendered scikit-learn.org. See: https://github.com/scikit-learn/scikit-learn/issues/21755 */display: inline-block !important;position: relative;}#sk-container-id-2 div.sk-text-repr-fallback {display: none;}</style><div id=\"sk-container-id-2\" class=\"sk-top-container\"><div class=\"sk-text-repr-fallback\"><pre>MultinomialNB()</pre><b>In a Jupyter environment, please rerun this cell to show the HTML representation or trust the notebook. <br />On GitHub, the HTML representation is unable to render, please try loading this page with nbviewer.org.</b></div><div class=\"sk-container\" hidden><div class=\"sk-item\"><div class=\"sk-estimator sk-toggleable\"><input class=\"sk-toggleable__control sk-hidden--visually\" id=\"sk-estimator-id-2\" type=\"checkbox\" checked><label for=\"sk-estimator-id-2\" class=\"sk-toggleable__label sk-toggleable__label-arrow\">MultinomialNB</label><div class=\"sk-toggleable__content\"><pre>MultinomialNB()</pre></div></div></div></div></div>"
            ]
          },
          "metadata": {},
          "execution_count": 32
        }
      ]
    },
    {
      "cell_type": "code",
      "source": [
        "nbc_pred = nbc.predict(X_test_features)"
      ],
      "metadata": {
        "id": "Wj3VnfsWj-M-"
      },
      "execution_count": 33,
      "outputs": []
    },
    {
      "cell_type": "code",
      "source": [
        "# score on train data, althout train score won't help much for us\n",
        "nbc.score(X_trained_features,train_y)"
      ],
      "metadata": {
        "colab": {
          "base_uri": "https://localhost:8080/"
        },
        "id": "XiqGIibRkCm9",
        "outputId": "2ce14337-528b-4be3-fdf0-6c1640885721"
      },
      "execution_count": 34,
      "outputs": [
        {
          "output_type": "execute_result",
          "data": {
            "text/plain": [
              "0.7727686703096539"
            ]
          },
          "metadata": {},
          "execution_count": 34
        }
      ]
    },
    {
      "cell_type": "code",
      "source": [
        "# saving the predictions to CSV\n",
        "Series(nbc_pred).to_csv('naive-bayes_pred.csv',index=False,header=False)"
      ],
      "metadata": {
        "id": "oaDoTn5GkHEO"
      },
      "execution_count": 35,
      "outputs": []
    },
    {
      "cell_type": "code",
      "source": [
        "# trying the Random Forest Classifier\n",
        "rfc = RandomForestClassifier()\n",
        "\n",
        "rfc.fit(X_trained_features,train_y)\n",
        "\n",
        "rfc_pred = rfc.predict(X_test_features)\n",
        "\n",
        "# score on train data, although train score won't help much for us\n",
        "rfc.score(X_trained_features,train_y)"
      ],
      "metadata": {
        "colab": {
          "base_uri": "https://localhost:8080/"
        },
        "id": "f2X4loOdkOQ8",
        "outputId": "ef98af7e-d8c6-4dd6-d6d8-6738263849c1"
      },
      "execution_count": 36,
      "outputs": [
        {
          "output_type": "execute_result",
          "data": {
            "text/plain": [
              "0.988615664845173"
            ]
          },
          "metadata": {},
          "execution_count": 36
        }
      ]
    },
    {
      "cell_type": "code",
      "source": [
        "# saving the predictions to CSV\n",
        "Series(rfc_pred).to_csv('random-forest_pred.csv',index=False,header=False)"
      ],
      "metadata": {
        "id": "ejsghc7QkZE3"
      },
      "execution_count": 37,
      "outputs": []
    }
  ]
}