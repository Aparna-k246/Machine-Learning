{
  "nbformat": 4,
  "nbformat_minor": 0,
  "metadata": {
    "colab": {
      "provenance": [],
      "authorship_tag": "ABX9TyPbHSfhP+GTJReI0Tpxs8zH"
    },
    "kernelspec": {
      "name": "python3",
      "display_name": "Python 3"
    },
    "language_info": {
      "name": "python"
    }
  },
  "cells": [
    {
      "cell_type": "code",
      "execution_count": 9,
      "metadata": {
        "id": "JlT4uKNa4ZMP"
      },
      "outputs": [],
      "source": [
        "from sklearn import decomposition, linear_model,datasets\n",
        "import numpy as np\n",
        "import time\n",
        "from sklearn.preprocessing import StandardScaler\n",
        "from sklearn.model_selection import train_test_split"
      ]
    },
    {
      "cell_type": "code",
      "source": [
        "breast_cancer=datasets.load_breast_cancer()"
      ],
      "metadata": {
        "id": "7zF4fA6f5ZoV"
      },
      "execution_count": 2,
      "outputs": []
    },
    {
      "cell_type": "code",
      "source": [
        "X=breast_cancer.data\n",
        "X.shape"
      ],
      "metadata": {
        "colab": {
          "base_uri": "https://localhost:8080/"
        },
        "id": "o6W8bjYC5gGh",
        "outputId": "9e393d8c-b7b7-498c-ccb3-3a23fedc6fd8"
      },
      "execution_count": 3,
      "outputs": [
        {
          "output_type": "execute_result",
          "data": {
            "text/plain": [
              "(569, 30)"
            ]
          },
          "metadata": {},
          "execution_count": 3
        }
      ]
    },
    {
      "cell_type": "code",
      "source": [
        "sc=StandardScaler()\n",
        "X_std=sc.fit_transform(X)"
      ],
      "metadata": {
        "id": "Q5Gpzpv45kix"
      },
      "execution_count": 4,
      "outputs": []
    },
    {
      "cell_type": "code",
      "source": [
        "x_train,x_test,y_train,y_test=train_test_split(X_std,breast_cancer.target,random_state=0)"
      ],
      "metadata": {
        "id": "8_TlKb325uGq"
      },
      "execution_count": 6,
      "outputs": []
    },
    {
      "cell_type": "code",
      "source": [
        "pca=decomposition.PCA(n_components=15)\n",
        "x_train_pca=pca.fit_transform(x_train)\n",
        "x_test_pca=pca.transform(x_test)\n",
        "x_train_pca.shape"
      ],
      "metadata": {
        "colab": {
          "base_uri": "https://localhost:8080/"
        },
        "id": "Wn8HZ_J96WWZ",
        "outputId": "99d3d580-2699-46e8-e44e-0c294745fd59"
      },
      "execution_count": 15,
      "outputs": [
        {
          "output_type": "execute_result",
          "data": {
            "text/plain": [
              "(426, 15)"
            ]
          },
          "metadata": {},
          "execution_count": 15
        }
      ]
    },
    {
      "cell_type": "code",
      "source": [
        "lr=linear_model.LogisticRegression()\n",
        "start=time.time()\n",
        "lr.fit(x_train,y_train)\n",
        "ending=time.time()\n",
        "print(ending-start)\n",
        "print(lr.score(x_test,y_test))"
      ],
      "metadata": {
        "colab": {
          "base_uri": "https://localhost:8080/"
        },
        "id": "XwwjnCfq7D4-",
        "outputId": "fea1fed0-3145-49b3-88b1-e16bc1268871"
      },
      "execution_count": 10,
      "outputs": [
        {
          "output_type": "stream",
          "name": "stdout",
          "text": [
            "0.02524399757385254\n",
            "0.965034965034965\n"
          ]
        }
      ]
    },
    {
      "cell_type": "code",
      "source": [
        "lr=linear_model.LogisticRegression()\n",
        "start=time.time()\n",
        "lr.fit(x_train_pca,y_train)\n",
        "ending=time.time()\n",
        "print(ending-start)\n",
        "print(lr.score(x_test_pca,y_test))"
      ],
      "metadata": {
        "colab": {
          "base_uri": "https://localhost:8080/"
        },
        "id": "b1upIxhu7gyA",
        "outputId": "dcde51b3-acdd-4b91-9be4-97e61a2a4e8a"
      },
      "execution_count": 13,
      "outputs": [
        {
          "output_type": "stream",
          "name": "stdout",
          "text": [
            "0.03362274169921875\n",
            "0.958041958041958\n"
          ]
        }
      ]
    }
  ]
}