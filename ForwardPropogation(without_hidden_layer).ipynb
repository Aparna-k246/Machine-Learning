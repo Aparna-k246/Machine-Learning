{
  "nbformat": 4,
  "nbformat_minor": 0,
  "metadata": {
    "colab": {
      "provenance": [],
      "authorship_tag": "ABX9TyMq4dpWW0bXH8N9pXRSgSkI"
    },
    "kernelspec": {
      "name": "python3",
      "display_name": "Python 3"
    },
    "language_info": {
      "name": "python"
    }
  },
  "cells": [
    {
      "cell_type": "code",
      "execution_count": 1,
      "metadata": {
        "id": "q4OQIX6BqEzX"
      },
      "outputs": [],
      "source": [
        "import numpy as np"
      ]
    },
    {
      "cell_type": "code",
      "source": [
        "X= np.array([[0,0], [0,1], [1,0], [1,1]])\n",
        "Y = np.array([[0,0,0,1]]).T\n",
        "X.shape, Y.shape"
      ],
      "metadata": {
        "colab": {
          "base_uri": "https://localhost:8080/"
        },
        "id": "B_RO8t-XqHoK",
        "outputId": "342c675d-5968-4b54-ea07-d41d24d22903"
      },
      "execution_count": 3,
      "outputs": [
        {
          "output_type": "execute_result",
          "data": {
            "text/plain": [
              "((4, 2), (4, 1))"
            ]
          },
          "metadata": {},
          "execution_count": 3
        }
      ]
    },
    {
      "cell_type": "code",
      "source": [
        "def sig(z):\n",
        "  return 1/(1+ np.exp(-z))"
      ],
      "metadata": {
        "id": "j6H9jSSzqqmb"
      },
      "execution_count": 5,
      "outputs": []
    },
    {
      "cell_type": "code",
      "source": [
        "weights= 2* np.random.random((2, 1)) - 1\n",
        "bias= 2 * np.random.random(1) - 1\n",
        "weights, bias"
      ],
      "metadata": {
        "colab": {
          "base_uri": "https://localhost:8080/"
        },
        "id": "gR5qREK8q_7h",
        "outputId": "191f4d51-626d-4dec-c8aa-4223e6b6fc8d"
      },
      "execution_count": 10,
      "outputs": [
        {
          "output_type": "execute_result",
          "data": {
            "text/plain": [
              "(array([[ 0.8245029 ],\n",
              "        [-0.43778652]]),\n",
              " array([0.95822464]))"
            ]
          },
          "metadata": {},
          "execution_count": 10
        }
      ]
    },
    {
      "cell_type": "code",
      "source": [
        "output0 = X\n",
        "output = sig(np.dot(output0, weights) + bias)\n",
        "output"
      ],
      "metadata": {
        "colab": {
          "base_uri": "https://localhost:8080/"
        },
        "id": "k54XlkzUrMui",
        "outputId": "7bd440b6-0c07-46d7-d9fb-b607a88b7f2c"
      },
      "execution_count": 11,
      "outputs": [
        {
          "output_type": "execute_result",
          "data": {
            "text/plain": [
              "array([[0.72276621],\n",
              "       [0.62725021],\n",
              "       [0.85603334],\n",
              "       [0.79330132]])"
            ]
          },
          "metadata": {},
          "execution_count": 11
        }
      ]
    },
    {
      "cell_type": "code",
      "source": [],
      "metadata": {
        "id": "iGbuMFWTtPFp"
      },
      "execution_count": null,
      "outputs": []
    }
  ]
}