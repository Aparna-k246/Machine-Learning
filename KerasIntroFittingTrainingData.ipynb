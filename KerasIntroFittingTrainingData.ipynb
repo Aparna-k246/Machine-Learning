{
  "nbformat": 4,
  "nbformat_minor": 0,
  "metadata": {
    "colab": {
      "provenance": [],
      "authorship_tag": "ABX9TyOGrStQ4lPQhc+TchBClcC4"
    },
    "kernelspec": {
      "name": "python3",
      "display_name": "Python 3"
    },
    "language_info": {
      "name": "python"
    }
  },
  "cells": [
    {
      "cell_type": "code",
      "execution_count": 17,
      "metadata": {
        "id": "eYJ44dp7_BHC"
      },
      "outputs": [],
      "source": [
        "from keras.models import Sequential\n",
        "from keras.layers import Dense"
      ]
    },
    {
      "cell_type": "code",
      "source": [
        "#Creating a Model\n",
        "model= Sequential()"
      ],
      "metadata": {
        "id": "Wh7oDoMd_MRF"
      },
      "execution_count": 18,
      "outputs": []
    },
    {
      "cell_type": "code",
      "source": [
        "layer1= Dense(units=32, activation= 'relu',input_dim= 30)\n",
        "model.add(layer1)\n",
        "model.add(Dense(units= 16, activation= 'relu'))\n",
        "model.add(Dense(units= 1, activation= 'sigmoid'))"
      ],
      "metadata": {
        "id": "O5Pg-DL0An7H"
      },
      "execution_count": 19,
      "outputs": []
    },
    {
      "cell_type": "code",
      "source": [
        "model.compile(optimizer='adam', loss= 'binary_crossentropy', metrics=['accuracy'])"
      ],
      "metadata": {
        "id": "nOrEs9nHDPDR"
      },
      "execution_count": 20,
      "outputs": []
    },
    {
      "cell_type": "code",
      "source": [
        "from sklearn import datasets\n",
        "cancer= datasets.load_breast_cancer()\n",
        "from sklearn.model_selection import train_test_split\n",
        "\n",
        "x_train, x_test, y_train, y_test= train_test_split(cancer.data, cancer.target, test_size= 0.2, random_state= 0)\n",
        "\n",
        "from sklearn.preprocessing import StandardScaler\n",
        "\n",
        "sc= StandardScaler()\n",
        "x_train= sc.fit_transform(x_train)\n",
        "x_test= sc.transform(x_test)"
      ],
      "metadata": {
        "id": "gYduoniiJuTk"
      },
      "execution_count": 21,
      "outputs": []
    },
    {
      "cell_type": "code",
      "source": [
        "model.fit(x_train, y_train, epochs= 20,batch_size= 50,validation_data= (x_test, y_test))"
      ],
      "metadata": {
        "colab": {
          "base_uri": "https://localhost:8080/"
        },
        "id": "j1ckYqtKJn4y",
        "outputId": "d3d5d3ed-a9e6-42ed-c4a0-b5434c8143ad"
      },
      "execution_count": 22,
      "outputs": [
        {
          "output_type": "stream",
          "name": "stdout",
          "text": [
            "Epoch 1/20\n",
            "10/10 [==============================] - 1s 40ms/step - loss: 0.7074 - accuracy: 0.5099 - val_loss: 0.5761 - val_accuracy: 0.7193\n",
            "Epoch 2/20\n",
            "10/10 [==============================] - 0s 9ms/step - loss: 0.5348 - accuracy: 0.7780 - val_loss: 0.4464 - val_accuracy: 0.8772\n",
            "Epoch 3/20\n",
            "10/10 [==============================] - 0s 7ms/step - loss: 0.4221 - accuracy: 0.8857 - val_loss: 0.3579 - val_accuracy: 0.9123\n",
            "Epoch 4/20\n",
            "10/10 [==============================] - 0s 10ms/step - loss: 0.3359 - accuracy: 0.9187 - val_loss: 0.2911 - val_accuracy: 0.9123\n",
            "Epoch 5/20\n",
            "10/10 [==============================] - 0s 8ms/step - loss: 0.2683 - accuracy: 0.9407 - val_loss: 0.2416 - val_accuracy: 0.9298\n",
            "Epoch 6/20\n",
            "10/10 [==============================] - 0s 9ms/step - loss: 0.2192 - accuracy: 0.9429 - val_loss: 0.2061 - val_accuracy: 0.9298\n",
            "Epoch 7/20\n",
            "10/10 [==============================] - 0s 8ms/step - loss: 0.1835 - accuracy: 0.9516 - val_loss: 0.1787 - val_accuracy: 0.9298\n",
            "Epoch 8/20\n",
            "10/10 [==============================] - 0s 9ms/step - loss: 0.1562 - accuracy: 0.9582 - val_loss: 0.1583 - val_accuracy: 0.9474\n",
            "Epoch 9/20\n",
            "10/10 [==============================] - 0s 8ms/step - loss: 0.1369 - accuracy: 0.9626 - val_loss: 0.1436 - val_accuracy: 0.9474\n",
            "Epoch 10/20\n",
            "10/10 [==============================] - 0s 7ms/step - loss: 0.1231 - accuracy: 0.9670 - val_loss: 0.1310 - val_accuracy: 0.9474\n",
            "Epoch 11/20\n",
            "10/10 [==============================] - 0s 7ms/step - loss: 0.1116 - accuracy: 0.9714 - val_loss: 0.1209 - val_accuracy: 0.9561\n",
            "Epoch 12/20\n",
            "10/10 [==============================] - 0s 7ms/step - loss: 0.1030 - accuracy: 0.9736 - val_loss: 0.1102 - val_accuracy: 0.9474\n",
            "Epoch 13/20\n",
            "10/10 [==============================] - 0s 7ms/step - loss: 0.0957 - accuracy: 0.9736 - val_loss: 0.1025 - val_accuracy: 0.9474\n",
            "Epoch 14/20\n",
            "10/10 [==============================] - 0s 7ms/step - loss: 0.0903 - accuracy: 0.9758 - val_loss: 0.0979 - val_accuracy: 0.9474\n",
            "Epoch 15/20\n",
            "10/10 [==============================] - 0s 7ms/step - loss: 0.0859 - accuracy: 0.9802 - val_loss: 0.0935 - val_accuracy: 0.9474\n",
            "Epoch 16/20\n",
            "10/10 [==============================] - 0s 7ms/step - loss: 0.0815 - accuracy: 0.9802 - val_loss: 0.0894 - val_accuracy: 0.9561\n",
            "Epoch 17/20\n",
            "10/10 [==============================] - 0s 9ms/step - loss: 0.0775 - accuracy: 0.9846 - val_loss: 0.0851 - val_accuracy: 0.9561\n",
            "Epoch 18/20\n",
            "10/10 [==============================] - 0s 7ms/step - loss: 0.0740 - accuracy: 0.9846 - val_loss: 0.0827 - val_accuracy: 0.9561\n",
            "Epoch 19/20\n",
            "10/10 [==============================] - 0s 8ms/step - loss: 0.0718 - accuracy: 0.9846 - val_loss: 0.0812 - val_accuracy: 0.9561\n",
            "Epoch 20/20\n",
            "10/10 [==============================] - 0s 9ms/step - loss: 0.0691 - accuracy: 0.9846 - val_loss: 0.0795 - val_accuracy: 0.9561\n"
          ]
        },
        {
          "output_type": "execute_result",
          "data": {
            "text/plain": [
              "<keras.callbacks.History at 0x7fd9b02431f0>"
            ]
          },
          "metadata": {},
          "execution_count": 22
        }
      ]
    }
  ]
}